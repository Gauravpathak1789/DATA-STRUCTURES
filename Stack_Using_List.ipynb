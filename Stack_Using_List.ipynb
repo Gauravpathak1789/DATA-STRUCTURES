{
 "cells": [
  {
   "cell_type": "code",
   "execution_count": 9,
   "id": "a2238488",
   "metadata": {},
   "outputs": [],
   "source": [
    "class Stack:\n",
    "    \n",
    "    def __init__(self):\n",
    "        self.stack_list=[]\n",
    "    \n",
    "    def is_empty(self):\n",
    "        return len(self.stack_list)==0\n",
    "    \n",
    "    def push(self,data):\n",
    "        self.stack_list.insert(0,data)\n",
    "    \n",
    "    def Pop(self):\n",
    "        if not self.is_empty():\n",
    "            return self.stack_list.pop(0)\n",
    "        else:\n",
    "            raise IndexError(\"Stack is empty\")\n",
    "    \n",
    "    def Peek(self):\n",
    "        if not self.is_empty():\n",
    "            return self.stack_list[0]\n",
    "        else:\n",
    "            raise IndexError(\"Stack is empty\")\n",
    "    \n",
    "    def Size(self):\n",
    "        if not self.is_empty():\n",
    "            return len(self.stack_list)\n",
    "    \n",
    "    def print_stack(self):\n",
    "        if not self.is_empty():\n",
    "            print(self.stack_list,end=\" \")\n",
    "        else:\n",
    "            pass\n",
    "            \n",
    "    \n",
    "            \n",
    "            \n",
    "        "
   ]
  },
  {
   "cell_type": "code",
   "execution_count": 10,
   "id": "3f50743b",
   "metadata": {},
   "outputs": [],
   "source": [
    "st1=Stack()"
   ]
  },
  {
   "cell_type": "code",
   "execution_count": 11,
   "id": "8726a809",
   "metadata": {},
   "outputs": [],
   "source": [
    "st1.push(10)\n",
    "st1.push(20)\n",
    "st1.push(30)\n",
    "st1.push(40)"
   ]
  },
  {
   "cell_type": "code",
   "execution_count": 12,
   "id": "d1bc0fad",
   "metadata": {},
   "outputs": [
    {
     "name": "stdout",
     "output_type": "stream",
     "text": [
      "[40, 30, 20, 10] "
     ]
    }
   ],
   "source": [
    "st1.print_stack()"
   ]
  },
  {
   "cell_type": "code",
   "execution_count": 13,
   "id": "f695acf7",
   "metadata": {},
   "outputs": [
    {
     "data": {
      "text/plain": [
       "40"
      ]
     },
     "execution_count": 13,
     "metadata": {},
     "output_type": "execute_result"
    }
   ],
   "source": [
    "st1.Pop()"
   ]
  },
  {
   "cell_type": "code",
   "execution_count": 16,
   "id": "ec2cfbaa",
   "metadata": {},
   "outputs": [
    {
     "name": "stdout",
     "output_type": "stream",
     "text": [
      "[30, 20, 10] "
     ]
    }
   ],
   "source": [
    "st1.print_stack()"
   ]
  },
  {
   "cell_type": "code",
   "execution_count": 15,
   "id": "94442f42",
   "metadata": {},
   "outputs": [
    {
     "data": {
      "text/plain": [
       "30"
      ]
     },
     "execution_count": 15,
     "metadata": {},
     "output_type": "execute_result"
    }
   ],
   "source": [
    "st1.Peek()"
   ]
  },
  {
   "cell_type": "code",
   "execution_count": 17,
   "id": "9fa6ef9b",
   "metadata": {},
   "outputs": [
    {
     "data": {
      "text/plain": [
       "False"
      ]
     },
     "execution_count": 17,
     "metadata": {},
     "output_type": "execute_result"
    }
   ],
   "source": [
    "st1.is_empty()"
   ]
  },
  {
   "cell_type": "code",
   "execution_count": 18,
   "id": "dee36088",
   "metadata": {},
   "outputs": [
    {
     "data": {
      "text/plain": [
       "3"
      ]
     },
     "execution_count": 18,
     "metadata": {},
     "output_type": "execute_result"
    }
   ],
   "source": [
    "st1.Size()"
   ]
  },
  {
   "cell_type": "code",
   "execution_count": null,
   "id": "9ae38bbc",
   "metadata": {},
   "outputs": [],
   "source": []
  }
 ],
 "metadata": {
  "kernelspec": {
   "display_name": "Python 3 (ipykernel)",
   "language": "python",
   "name": "python3"
  },
  "language_info": {
   "codemirror_mode": {
    "name": "ipython",
    "version": 3
   },
   "file_extension": ".py",
   "mimetype": "text/x-python",
   "name": "python",
   "nbconvert_exporter": "python",
   "pygments_lexer": "ipython3",
   "version": "3.9.12"
  }
 },
 "nbformat": 4,
 "nbformat_minor": 5
}

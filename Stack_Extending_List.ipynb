{
 "cells": [
  {
   "cell_type": "code",
   "execution_count": 4,
   "id": "6c577be2",
   "metadata": {},
   "outputs": [],
   "source": [
    "class Stack(list):\n",
    "\n",
    "    \n",
    "    def is_empty(self):\n",
    "        return len(self)==0\n",
    "    \n",
    "    def push(self,data):\n",
    "        self.append(data)\n",
    "    \n",
    "    def Pop(self):\n",
    "        if not self.is_empty():\n",
    "            return self.pop()\n",
    "        else:\n",
    "            raise IndexError(\"Stack is empty\")\n",
    "    \n",
    "    def peek(self):\n",
    "        if not self.is_empty():\n",
    "            return self[-1]\n",
    "        else:\n",
    "            raise IndexError(\"Stack is empty\")\n",
    "    \n",
    "    def size(self):\n",
    "        return len(self)\n",
    "    \n",
    "    def insert(self,index,data):\n",
    "        raise AttributeError(\"no attribute insert in stack\")\n",
    "        \n",
    "    def print_stack(self): #optional\n",
    "        print(self,end=\" \")\n",
    "            \n",
    "        \n",
    "        \n",
    "    "
   ]
  },
  {
   "cell_type": "code",
   "execution_count": 5,
   "id": "65cf4319",
   "metadata": {},
   "outputs": [],
   "source": [
    "stack1=Stack()"
   ]
  },
  {
   "cell_type": "code",
   "execution_count": 6,
   "id": "3cdc91cd",
   "metadata": {},
   "outputs": [],
   "source": [
    "stack1.push(11)\n",
    "stack1.push(12)\n",
    "stack1.push(13)\n",
    "stack1.push(14)"
   ]
  },
  {
   "cell_type": "code",
   "execution_count": 7,
   "id": "e431c100",
   "metadata": {},
   "outputs": [
    {
     "name": "stdout",
     "output_type": "stream",
     "text": [
      "[11, 12, 13, 14] "
     ]
    }
   ],
   "source": [
    "stack1.print_stack()"
   ]
  },
  {
   "cell_type": "code",
   "execution_count": 8,
   "id": "3c69b373",
   "metadata": {},
   "outputs": [
    {
     "data": {
      "text/plain": [
       "14"
      ]
     },
     "execution_count": 8,
     "metadata": {},
     "output_type": "execute_result"
    }
   ],
   "source": [
    "stack1.peek()"
   ]
  },
  {
   "cell_type": "code",
   "execution_count": 9,
   "id": "ec02b061",
   "metadata": {},
   "outputs": [
    {
     "data": {
      "text/plain": [
       "14"
      ]
     },
     "execution_count": 9,
     "metadata": {},
     "output_type": "execute_result"
    }
   ],
   "source": [
    "stack1.Pop()"
   ]
  },
  {
   "cell_type": "code",
   "execution_count": 10,
   "id": "b5d81958",
   "metadata": {},
   "outputs": [
    {
     "name": "stdout",
     "output_type": "stream",
     "text": [
      "[11, 12, 13] "
     ]
    }
   ],
   "source": [
    "stack1.print_stack()"
   ]
  },
  {
   "cell_type": "code",
   "execution_count": 11,
   "id": "1a7d95ff",
   "metadata": {},
   "outputs": [
    {
     "data": {
      "text/plain": [
       "3"
      ]
     },
     "execution_count": 11,
     "metadata": {},
     "output_type": "execute_result"
    }
   ],
   "source": [
    "stack1.size()"
   ]
  },
  {
   "cell_type": "code",
   "execution_count": 13,
   "id": "e6d669e0",
   "metadata": {},
   "outputs": [
    {
     "ename": "AttributeError",
     "evalue": "no attribute insert in stack",
     "output_type": "error",
     "traceback": [
      "\u001b[1;31m---------------------------------------------------------------------------\u001b[0m",
      "\u001b[1;31mAttributeError\u001b[0m                            Traceback (most recent call last)",
      "Input \u001b[1;32mIn [13]\u001b[0m, in \u001b[0;36m<cell line: 1>\u001b[1;34m()\u001b[0m\n\u001b[1;32m----> 1\u001b[0m \u001b[43mstack1\u001b[49m\u001b[38;5;241;43m.\u001b[39;49m\u001b[43minsert\u001b[49m\u001b[43m(\u001b[49m\u001b[38;5;241;43m22\u001b[39;49m\u001b[43m,\u001b[49m\u001b[38;5;241;43m2\u001b[39;49m\u001b[43m)\u001b[49m\n",
      "Input \u001b[1;32mIn [4]\u001b[0m, in \u001b[0;36mStack.insert\u001b[1;34m(self, index, data)\u001b[0m\n\u001b[0;32m     25\u001b[0m \u001b[38;5;28;01mdef\u001b[39;00m \u001b[38;5;21minsert\u001b[39m(\u001b[38;5;28mself\u001b[39m,index,data):\n\u001b[1;32m---> 26\u001b[0m     \u001b[38;5;28;01mraise\u001b[39;00m \u001b[38;5;167;01mAttributeError\u001b[39;00m(\u001b[38;5;124m\"\u001b[39m\u001b[38;5;124mno attribute insert in stack\u001b[39m\u001b[38;5;124m\"\u001b[39m)\n",
      "\u001b[1;31mAttributeError\u001b[0m: no attribute insert in stack"
     ]
    }
   ],
   "source": [
    "stack1.insert(22,2)"
   ]
  },
  {
   "cell_type": "code",
   "execution_count": null,
   "id": "0a9380a4",
   "metadata": {},
   "outputs": [],
   "source": []
  }
 ],
 "metadata": {
  "kernelspec": {
   "display_name": "Python 3 (ipykernel)",
   "language": "python",
   "name": "python3"
  },
  "language_info": {
   "codemirror_mode": {
    "name": "ipython",
    "version": 3
   },
   "file_extension": ".py",
   "mimetype": "text/x-python",
   "name": "python",
   "nbconvert_exporter": "python",
   "pygments_lexer": "ipython3",
   "version": "3.9.12"
  }
 },
 "nbformat": 4,
 "nbformat_minor": 5
}

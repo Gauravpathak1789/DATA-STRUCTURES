{
 "cells": [
  {
   "cell_type": "code",
   "execution_count": 40,
   "id": "43599bf7",
   "metadata": {},
   "outputs": [],
   "source": [
    "class Node:\n",
    "    \n",
    "    def __init__(self,item=None,next=None):\n",
    "        self.item=item\n",
    "        self.next=next\n",
    "        \n",
    "class Queue:\n",
    "    \n",
    "    def __init__(self,maxsize=None,rear=None,front=None):\n",
    "        self.maxsize=maxsize\n",
    "        self.rear=rear\n",
    "        self.front=front\n",
    "        self.item_count=0\n",
    "    \n",
    "    def is_empty(self):\n",
    "        return self.front==None\n",
    "    \n",
    "    def Enqueue(self,data):\n",
    "        new_node=Node(data)\n",
    "        if self.item_count<self.maxsize:\n",
    "            if not self.is_empty():\n",
    "                new_node.next=self.rear\n",
    "            else:\n",
    "                self.front=new_node\n",
    "            self.rear=new_node\n",
    "            self.item_count+=1\n",
    "        else:\n",
    "            raise AttributeError(\"Queue is full\")\n",
    "                \n",
    "    def Dequeue(self):\n",
    "        if not self.is_empty():\n",
    "            if self.front==self.rear:\n",
    "                self.front=None\n",
    "                self.rear=None\n",
    "            else:\n",
    "                temp=self.rear.next\n",
    "                while temp.next!=self.front:\n",
    "                    temp=temp.next\n",
    "                temp.next=None\n",
    "                self.front=temp\n",
    "            self.item_count-=1\n",
    "        else:\n",
    "            raise AttributeError(\"Queue is empty\")\n",
    "            \n",
    "    \n",
    "    def get_rear(self):\n",
    "        if not self.is_empty():\n",
    "            return self.rear.item\n",
    "        else:\n",
    "            raise AttributeError(\"queue is empty\")\n",
    "    \n",
    "    def get_front(self):\n",
    "        if not self.is_empty():\n",
    "            return self.front.item\n",
    "        \n",
    "        else:\n",
    "            raise AttributeError(\"queue is empty\")\n",
    "    \n",
    "    def isfull(self):\n",
    "        return self.item_count==self.maxsize\n",
    "    \n",
    "    def print_item(self): #optional\n",
    "        if not self.is_empty():\n",
    "            print(self.rear.item,end=\" \")\n",
    "            temp=self.rear.next\n",
    "            while temp!=None:\n",
    "                print(temp.item,end=' ')\n",
    "                temp=temp.next\n",
    "        else:\n",
    "            pass\n",
    "        \n",
    "    def size(self):\n",
    "        return self.item_count\n",
    "            \n",
    "            \n",
    "        \n",
    "    \n",
    " \n"
   ]
  },
  {
   "cell_type": "code",
   "execution_count": 41,
   "id": "de75314d",
   "metadata": {},
   "outputs": [],
   "source": [
    "q1=Queue(5)"
   ]
  },
  {
   "cell_type": "code",
   "execution_count": 42,
   "id": "7dd7210f",
   "metadata": {},
   "outputs": [
    {
     "data": {
      "text/plain": [
       "True"
      ]
     },
     "execution_count": 42,
     "metadata": {},
     "output_type": "execute_result"
    }
   ],
   "source": [
    "q1.is_empty()"
   ]
  },
  {
   "cell_type": "code",
   "execution_count": 43,
   "id": "5c784f13",
   "metadata": {},
   "outputs": [],
   "source": [
    "q1.Enqueue(10)\n",
    "q1.Enqueue(20)\n",
    "q1.Enqueue(30)\n",
    "q1.Enqueue(40)\n",
    "q1.Enqueue(50)"
   ]
  },
  {
   "cell_type": "code",
   "execution_count": 44,
   "id": "8c858824",
   "metadata": {},
   "outputs": [
    {
     "data": {
      "text/plain": [
       "False"
      ]
     },
     "execution_count": 44,
     "metadata": {},
     "output_type": "execute_result"
    }
   ],
   "source": [
    "q1.is_empty()"
   ]
  },
  {
   "cell_type": "code",
   "execution_count": 45,
   "id": "3e9bc475",
   "metadata": {},
   "outputs": [
    {
     "name": "stdout",
     "output_type": "stream",
     "text": [
      "50 40 30 20 10 "
     ]
    }
   ],
   "source": [
    "q1.print_item()"
   ]
  },
  {
   "cell_type": "code",
   "execution_count": 46,
   "id": "74895328",
   "metadata": {},
   "outputs": [],
   "source": [
    "q1.Dequeue()"
   ]
  },
  {
   "cell_type": "code",
   "execution_count": 47,
   "id": "44b023bc",
   "metadata": {},
   "outputs": [
    {
     "data": {
      "text/plain": [
       "20"
      ]
     },
     "execution_count": 47,
     "metadata": {},
     "output_type": "execute_result"
    }
   ],
   "source": [
    "q1.get_front()"
   ]
  },
  {
   "cell_type": "code",
   "execution_count": 48,
   "id": "dd347706",
   "metadata": {},
   "outputs": [
    {
     "data": {
      "text/plain": [
       "50"
      ]
     },
     "execution_count": 48,
     "metadata": {},
     "output_type": "execute_result"
    }
   ],
   "source": [
    "q1.get_rear()"
   ]
  },
  {
   "cell_type": "code",
   "execution_count": 51,
   "id": "cceccd6f",
   "metadata": {},
   "outputs": [
    {
     "name": "stdout",
     "output_type": "stream",
     "text": [
      "50 40 30 "
     ]
    }
   ],
   "source": [
    "q1.print_item()"
   ]
  },
  {
   "cell_type": "code",
   "execution_count": 50,
   "id": "6af4b8d9",
   "metadata": {},
   "outputs": [],
   "source": [
    "q1.Dequeue()"
   ]
  },
  {
   "cell_type": "code",
   "execution_count": 52,
   "id": "9dfe562c",
   "metadata": {},
   "outputs": [
    {
     "data": {
      "text/plain": [
       "30"
      ]
     },
     "execution_count": 52,
     "metadata": {},
     "output_type": "execute_result"
    }
   ],
   "source": [
    "q1.get_front()"
   ]
  },
  {
   "cell_type": "code",
   "execution_count": null,
   "id": "c3ef32a4",
   "metadata": {},
   "outputs": [],
   "source": []
  }
 ],
 "metadata": {
  "kernelspec": {
   "display_name": "Python 3 (ipykernel)",
   "language": "python",
   "name": "python3"
  },
  "language_info": {
   "codemirror_mode": {
    "name": "ipython",
    "version": 3
   },
   "file_extension": ".py",
   "mimetype": "text/x-python",
   "name": "python",
   "nbconvert_exporter": "python",
   "pygments_lexer": "ipython3",
   "version": "3.9.12"
  }
 },
 "nbformat": 4,
 "nbformat_minor": 5
}

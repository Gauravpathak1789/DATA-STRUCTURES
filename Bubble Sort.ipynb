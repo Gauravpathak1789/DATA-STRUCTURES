{
 "cells": [
  {
   "cell_type": "code",
   "execution_count": 1,
   "id": "8585dd5e",
   "metadata": {},
   "outputs": [],
   "source": [
    "def Bubble_sort(array):\n",
    "    n=len(array)\n",
    "    for i in range(n-1):\n",
    "        flag=False\n",
    "        k=0\n",
    "        while(k<=n-k):\n",
    "            if (array[k]>array[k+1]):\n",
    "                arr=array[k]\n",
    "                array[k]=array[k+1]\n",
    "                array[k+1]=arr\n",
    "                flag=True\n",
    "            k+=1\n",
    "        if (flag):\n",
    "            pass\n",
    "        else:\n",
    "            break\n",
    "            \n",
    "        \n",
    "    return array\n",
    "        "
   ]
  },
  {
   "cell_type": "code",
   "execution_count": 2,
   "id": "b4981547",
   "metadata": {},
   "outputs": [
    {
     "data": {
      "text/plain": [
       "[10, 30, 40, 50]"
      ]
     },
     "execution_count": 2,
     "metadata": {},
     "output_type": "execute_result"
    }
   ],
   "source": [
    "Bubble_sort([30,40,10,50])"
   ]
  },
  {
   "cell_type": "code",
   "execution_count": null,
   "id": "39287011",
   "metadata": {},
   "outputs": [],
   "source": []
  }
 ],
 "metadata": {
  "kernelspec": {
   "display_name": "Python 3 (ipykernel)",
   "language": "python",
   "name": "python3"
  },
  "language_info": {
   "codemirror_mode": {
    "name": "ipython",
    "version": 3
   },
   "file_extension": ".py",
   "mimetype": "text/x-python",
   "name": "python",
   "nbconvert_exporter": "python",
   "pygments_lexer": "ipython3",
   "version": "3.9.12"
  }
 },
 "nbformat": 4,
 "nbformat_minor": 5
}

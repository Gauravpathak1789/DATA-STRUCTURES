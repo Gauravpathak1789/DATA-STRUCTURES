{
 "cells": [
  {
   "cell_type": "code",
   "execution_count": 15,
   "id": "d2d27d2a",
   "metadata": {},
   "outputs": [],
   "source": [
    "class Node:\n",
    "    \n",
    "    def __init__(self,item=None,next=None):\n",
    "        self.item=item\n",
    "        self.next=next\n",
    "    \n",
    "class CLL:\n",
    "    \n",
    "    def __init__(self,last=None):\n",
    "        self.last=last\n",
    "    \n",
    "    def is_empty(self):\n",
    "        return self.last==None\n",
    "\n",
    "    def insert_at_start(self,data):\n",
    "        if not self.is_empty():\n",
    "            new_node=Node(data,self.last.next)\n",
    "            self.last.next=new_node\n",
    "        else:\n",
    "            self.last=Node(data)\n",
    "            self.last.next=self.last\n",
    "            \n",
    "    def insert_at_last(self,data):\n",
    "        if not self.is_empty():\n",
    "            new_node=Node(data,self.last.next)\n",
    "            self.last.next=new_node\n",
    "            self.last=new_node\n",
    "        else:\n",
    "            self.last=Node(data)\n",
    "            self.last.next=self.last\n",
    "            \n",
    "    def insert_after(self,data,N):\n",
    "        if not self.is_empty():\n",
    "            new_node=Node(data,N.next)\n",
    "            N.next=new_node\n",
    "            if N==self.last:\n",
    "                self.last=new_node\n",
    "        else:\n",
    "            pass\n",
    "        \n",
    "    \n",
    "    def search(self,data):\n",
    "        if not self.is_empty():\n",
    "            if self.last.item==data:\n",
    "                return self.last\n",
    "            else:\n",
    "                temp=self.last.next\n",
    "                while temp is not self.last:\n",
    "                    if temp.item==data:\n",
    "                        return temp\n",
    "                    temp=temp.next\n",
    "        else:\n",
    "            pass\n",
    "        \n",
    "    def print_all(self):\n",
    "        if not self.is_empty():\n",
    "            temp=self.last.next\n",
    "            while temp is not self.last:\n",
    "                print(temp.item,end=' ')\n",
    "                temp=temp.next\n",
    "            print(self.last.item,end=' ')\n",
    "            \n",
    "        else:\n",
    "            print(\"list is empty\")\n",
    "  \n",
    "    def delete_first(self):\n",
    "        if not self.is_empty():\n",
    "            if self.last.next==None:\n",
    "                self.last=None\n",
    "            else:\n",
    "                self.last.next=self.last.next.next\n",
    "        else:\n",
    "            pass\n",
    "    \n",
    "    def delete_last(self):\n",
    "        if not self.is_empty():\n",
    "            if self.last.next==self.last:\n",
    "                self.last=None\n",
    "            else:\n",
    "                temp=self.last.next\n",
    "                while temp.next!=self.last:\n",
    "                    temp=temp.next\n",
    "                temp.next=self.last.next\n",
    "                self.last=temp\n",
    "        else:\n",
    "            pass\n",
    "        \n",
    "    def delete_item(self,data):\n",
    "        if not self.is_empty():\n",
    "            if self.last.next==None:\n",
    "                if self.last.item==data:\n",
    "                    self.last=None\n",
    "                else:\n",
    "                    if self.last.next.item==data:\n",
    "                        self.delete_first()\n",
    "            else:\n",
    "                temp=self.last.next\n",
    "                while temp is not self.last:\n",
    "                    if temp.next==self.last:\n",
    "                        if self.last.item==data:\n",
    "                            self.delete_last()\n",
    "                        break\n",
    "                    if temp.next.item==data:\n",
    "                        temp.next=temp.next.next\n",
    "                        break\n",
    "                    temp=temp.next\n",
    "        else:\n",
    "            pass\n",
    "                \n",
    "                \n",
    "            \n",
    "            \n",
    "            \n",
    "        \n",
    "            \n",
    "        "
   ]
  },
  {
   "cell_type": "code",
   "execution_count": 16,
   "id": "b59e8e3b",
   "metadata": {},
   "outputs": [],
   "source": [
    "cl1=CLL()"
   ]
  },
  {
   "cell_type": "code",
   "execution_count": 17,
   "id": "87920aae",
   "metadata": {},
   "outputs": [
    {
     "data": {
      "text/plain": [
       "True"
      ]
     },
     "execution_count": 17,
     "metadata": {},
     "output_type": "execute_result"
    }
   ],
   "source": [
    "cl1.is_empty()"
   ]
  },
  {
   "cell_type": "code",
   "execution_count": 18,
   "id": "ccb36d9c",
   "metadata": {},
   "outputs": [],
   "source": [
    "cl1.insert_at_start(50)\n",
    "cl1.insert_at_start(40)\n",
    "cl1.insert_at_start(30)\n",
    "cl1.insert_at_start(20)"
   ]
  },
  {
   "cell_type": "code",
   "execution_count": 21,
   "id": "f759d651",
   "metadata": {},
   "outputs": [
    {
     "name": "stdout",
     "output_type": "stream",
     "text": [
      "20 30 50 "
     ]
    }
   ],
   "source": [
    "cl1.print_all()"
   ]
  },
  {
   "cell_type": "code",
   "execution_count": 20,
   "id": "e6060abc",
   "metadata": {},
   "outputs": [],
   "source": [
    "cl1.delete_item(40)"
   ]
  },
  {
   "cell_type": "code",
   "execution_count": 10,
   "id": "25ae5c42",
   "metadata": {},
   "outputs": [],
   "source": [
    "cl1.delete_last()"
   ]
  },
  {
   "cell_type": "code",
   "execution_count": 12,
   "id": "e3156547",
   "metadata": {},
   "outputs": [],
   "source": [
    "cl1.delete_first()"
   ]
  },
  {
   "cell_type": "code",
   "execution_count": 22,
   "id": "e2529565",
   "metadata": {},
   "outputs": [],
   "source": [
    "cl2=CLL()"
   ]
  },
  {
   "cell_type": "code",
   "execution_count": 23,
   "id": "884fdd19",
   "metadata": {},
   "outputs": [],
   "source": [
    "cl2.insert_at_last(1)\n",
    "cl2.insert_at_last(2)\n",
    "cl2.insert_at_last(3)"
   ]
  },
  {
   "cell_type": "code",
   "execution_count": 24,
   "id": "2a2f4309",
   "metadata": {},
   "outputs": [
    {
     "name": "stdout",
     "output_type": "stream",
     "text": [
      "1 2 3 "
     ]
    }
   ],
   "source": [
    "cl2.print_all()"
   ]
  },
  {
   "cell_type": "code",
   "execution_count": 25,
   "id": "d59fdb47",
   "metadata": {},
   "outputs": [
    {
     "data": {
      "text/plain": [
       "False"
      ]
     },
     "execution_count": 25,
     "metadata": {},
     "output_type": "execute_result"
    }
   ],
   "source": [
    "cl2.is_empty()"
   ]
  },
  {
   "cell_type": "code",
   "execution_count": 26,
   "id": "18286dc6",
   "metadata": {},
   "outputs": [
    {
     "data": {
      "text/plain": [
       "<__main__.Node at 0x21c4a177580>"
      ]
     },
     "execution_count": 26,
     "metadata": {},
     "output_type": "execute_result"
    }
   ],
   "source": [
    "cl2.search(2)"
   ]
  },
  {
   "cell_type": "code",
   "execution_count": null,
   "id": "3bb7274f",
   "metadata": {},
   "outputs": [],
   "source": []
  }
 ],
 "metadata": {
  "kernelspec": {
   "display_name": "Python 3 (ipykernel)",
   "language": "python",
   "name": "python3"
  },
  "language_info": {
   "codemirror_mode": {
    "name": "ipython",
    "version": 3
   },
   "file_extension": ".py",
   "mimetype": "text/x-python",
   "name": "python",
   "nbconvert_exporter": "python",
   "pygments_lexer": "ipython3",
   "version": "3.9.12"
  }
 },
 "nbformat": 4,
 "nbformat_minor": 5
}

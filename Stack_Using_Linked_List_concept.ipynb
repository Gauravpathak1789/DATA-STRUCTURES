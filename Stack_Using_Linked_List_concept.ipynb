{
 "cells": [
  {
   "cell_type": "code",
   "execution_count": null,
   "id": "120962a1",
   "metadata": {},
   "outputs": [],
   "source": [
    " class Node:\n",
    "        \n",
    "        def __init__(self,item=None,next=None):\n",
    "            self.item=item\n",
    "            self.next=next\n",
    "            \n",
    "class Stack:\n",
    "    \n",
    "    def __init__(self,start=None,item_count=0):\n",
    "        self.start=start\n",
    "        self.item_count=item_count\n",
    "        \n",
    "    def is_empty(self):\n",
    "        return self.start==None\n",
    "    \n",
    "    def push(self,data):\n",
    "        if not self.is_empty():\n",
    "            new_node=Node(data,self.start)\n",
    "            self.start=new_node\n",
    "        else:\n",
    "            self.start=Node(data)\n",
    "        self.item_count+=1\n",
    "    \n",
    "    def Pop(self):\n",
    "        if not self.is_empty():\n",
    "            popped_start=self.start.item\n",
    "            self.start=self.start.next\n",
    "            self.item_count-=1\n",
    "            return popped_start\n",
    "        else:\n",
    "            raise IndexError(\"Stack is empty\")\n",
    "    \n",
    "    def peek(self):\n",
    "        if not self.is_empty():\n",
    "            return self.start.item\n",
    "        else:\n",
    "            raise IndexError(\"Stack is empty\")\n",
    "    \n",
    "    def size(self):\n",
    "        return self.item_count\n",
    "    \n",
    "    def print_items(self): #optional only for verification purpose\n",
    "        if not self.is_empty():\n",
    "            print(self.start.item,end=\" \")\n",
    "            temp=self.start.next\n",
    "            while temp is not None:\n",
    "                print(temp.item,end=\" \")\n",
    "                temp=temp.next\n",
    "        else:\n",
    "            pass\n",
    "            \n",
    "            \n",
    "            \n",
    "        "
   ]
  },
  {
   "cell_type": "code",
   "execution_count": 2,
   "id": "c245acd4",
   "metadata": {},
   "outputs": [],
   "source": [
    "stack1=Stack()"
   ]
  },
  {
   "cell_type": "code",
   "execution_count": 3,
   "id": "f5771e53",
   "metadata": {},
   "outputs": [],
   "source": [
    "stack1.push(10)\n",
    "stack1.push(20)\n",
    "stack1.push(30)\n",
    "stack1.push(40)"
   ]
  },
  {
   "cell_type": "code",
   "execution_count": 4,
   "id": "536951da",
   "metadata": {},
   "outputs": [
    {
     "name": "stdout",
     "output_type": "stream",
     "text": [
      "40 30 20 10 "
     ]
    }
   ],
   "source": [
    "stack1.print_items()"
   ]
  },
  {
   "cell_type": "code",
   "execution_count": 5,
   "id": "7bcf8a54",
   "metadata": {},
   "outputs": [
    {
     "data": {
      "text/plain": [
       "40"
      ]
     },
     "execution_count": 5,
     "metadata": {},
     "output_type": "execute_result"
    }
   ],
   "source": [
    "stack1.Pop()"
   ]
  },
  {
   "cell_type": "code",
   "execution_count": 6,
   "id": "1e2071ad",
   "metadata": {},
   "outputs": [
    {
     "name": "stdout",
     "output_type": "stream",
     "text": [
      "30 20 10 "
     ]
    }
   ],
   "source": [
    "stack1.print_items()"
   ]
  },
  {
   "cell_type": "code",
   "execution_count": 7,
   "id": "2a2a35d4",
   "metadata": {},
   "outputs": [
    {
     "data": {
      "text/plain": [
       "30"
      ]
     },
     "execution_count": 7,
     "metadata": {},
     "output_type": "execute_result"
    }
   ],
   "source": [
    "stack1.peek()"
   ]
  },
  {
   "cell_type": "code",
   "execution_count": 8,
   "id": "e2aa8047",
   "metadata": {},
   "outputs": [
    {
     "data": {
      "text/plain": [
       "False"
      ]
     },
     "execution_count": 8,
     "metadata": {},
     "output_type": "execute_result"
    }
   ],
   "source": [
    "stack1.is_empty()"
   ]
  },
  {
   "cell_type": "code",
   "execution_count": 9,
   "id": "48b8d10e",
   "metadata": {},
   "outputs": [
    {
     "data": {
      "text/plain": [
       "3"
      ]
     },
     "execution_count": 9,
     "metadata": {},
     "output_type": "execute_result"
    }
   ],
   "source": [
    "stack1.size()"
   ]
  },
  {
   "cell_type": "code",
   "execution_count": 10,
   "id": "a34459d5",
   "metadata": {},
   "outputs": [
    {
     "data": {
      "text/plain": [
       "30"
      ]
     },
     "execution_count": 10,
     "metadata": {},
     "output_type": "execute_result"
    }
   ],
   "source": [
    "stack1.Pop()"
   ]
  },
  {
   "cell_type": "code",
   "execution_count": 11,
   "id": "e077ea0a",
   "metadata": {},
   "outputs": [
    {
     "data": {
      "text/plain": [
       "20"
      ]
     },
     "execution_count": 11,
     "metadata": {},
     "output_type": "execute_result"
    }
   ],
   "source": [
    "stack1.Pop()"
   ]
  },
  {
   "cell_type": "code",
   "execution_count": 12,
   "id": "3a649846",
   "metadata": {},
   "outputs": [
    {
     "data": {
      "text/plain": [
       "10"
      ]
     },
     "execution_count": 12,
     "metadata": {},
     "output_type": "execute_result"
    }
   ],
   "source": [
    "stack1.Pop()"
   ]
  },
  {
   "cell_type": "code",
   "execution_count": 13,
   "id": "808c2ead",
   "metadata": {},
   "outputs": [
    {
     "ename": "IndexError",
     "evalue": "Stack is empty",
     "output_type": "error",
     "traceback": [
      "\u001b[1;31m---------------------------------------------------------------------------\u001b[0m",
      "\u001b[1;31mIndexError\u001b[0m                                Traceback (most recent call last)",
      "Input \u001b[1;32mIn [13]\u001b[0m, in \u001b[0;36m<cell line: 1>\u001b[1;34m()\u001b[0m\n\u001b[1;32m----> 1\u001b[0m \u001b[43mstack1\u001b[49m\u001b[38;5;241;43m.\u001b[39;49m\u001b[43mPop\u001b[49m\u001b[43m(\u001b[49m\u001b[43m)\u001b[49m\n",
      "Input \u001b[1;32mIn [1]\u001b[0m, in \u001b[0;36mStack.Pop\u001b[1;34m(self)\u001b[0m\n\u001b[0;32m     29\u001b[0m     \u001b[38;5;28;01mreturn\u001b[39;00m popped_start\n\u001b[0;32m     30\u001b[0m \u001b[38;5;28;01melse\u001b[39;00m:\n\u001b[1;32m---> 31\u001b[0m     \u001b[38;5;28;01mraise\u001b[39;00m \u001b[38;5;167;01mIndexError\u001b[39;00m(\u001b[38;5;124m\"\u001b[39m\u001b[38;5;124mStack is empty\u001b[39m\u001b[38;5;124m\"\u001b[39m)\n",
      "\u001b[1;31mIndexError\u001b[0m: Stack is empty"
     ]
    }
   ],
   "source": [
    "stack1.Pop()"
   ]
  },
  {
   "cell_type": "code",
   "execution_count": null,
   "id": "22e4b8ba",
   "metadata": {},
   "outputs": [],
   "source": []
  }
 ],
 "metadata": {
  "kernelspec": {
   "display_name": "Python 3 (ipykernel)",
   "language": "python",
   "name": "python3"
  },
  "language_info": {
   "codemirror_mode": {
    "name": "ipython",
    "version": 3
   },
   "file_extension": ".py",
   "mimetype": "text/x-python",
   "name": "python",
   "nbconvert_exporter": "python",
   "pygments_lexer": "ipython3",
   "version": "3.9.12"
  }
 },
 "nbformat": 4,
 "nbformat_minor": 5
}

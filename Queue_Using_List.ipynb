{
 "cells": [
  {
   "cell_type": "code",
   "execution_count": 24,
   "id": "35142943",
   "metadata": {},
   "outputs": [],
   "source": [
    "class Queue:\n",
    "    \n",
    "    def __init__(self,maxsize=None):\n",
    "        self.maxsize=maxsize\n",
    "        self.mylist=[]\n",
    "        \n",
    "    def is_empty(self):\n",
    "        return len(self.mylist)==0\n",
    "    \n",
    "    def Enqueue(self,data):\n",
    "        if len(self.mylist)<self.maxsize:\n",
    "            self.mylist.insert(0,data)\n",
    "        else:\n",
    "            raise AttributeError(\"Queue is full\")\n",
    "    \n",
    "    def Dequeue(self):\n",
    "        if not self.is_empty():\n",
    "            self.mylist.pop()\n",
    "        else:\n",
    "            raise AttributeError(\"queue is empty\")\n",
    "    \n",
    "    def front(self):\n",
    "        if not self.is_empty():\n",
    "            return self.mylist[-1]\n",
    "        else:\n",
    "            raise AttributeError(\"Queue is empty\")\n",
    "    \n",
    "    def rear(self):\n",
    "        if not self.is_empty():\n",
    "            return self.mylist[0]\n",
    "        else:\n",
    "            raise AttributeError(\"Queue is empty\")\n",
    "    \n",
    "    def is_full(self):\n",
    "        return len(self.mylist)==self.maxsize\n",
    "    \n",
    "    def size(self):\n",
    "        return len(self.mylist)\n",
    "    \n",
    "    def print_queue(self): #optional\n",
    "        print(self.mylist,end=\" \")\n",
    "            "
   ]
  },
  {
   "cell_type": "code",
   "execution_count": 25,
   "id": "ac1506fc",
   "metadata": {},
   "outputs": [],
   "source": [
    "q1=Queue(5)"
   ]
  },
  {
   "cell_type": "code",
   "execution_count": 26,
   "id": "810f1f45",
   "metadata": {},
   "outputs": [
    {
     "data": {
      "text/plain": [
       "True"
      ]
     },
     "execution_count": 26,
     "metadata": {},
     "output_type": "execute_result"
    }
   ],
   "source": [
    "q1.is_empty()"
   ]
  },
  {
   "cell_type": "code",
   "execution_count": 27,
   "id": "2b479337",
   "metadata": {},
   "outputs": [],
   "source": [
    "q1.Enqueue(10)\n",
    "q1.Enqueue(20)\n",
    "q1.Enqueue(30)\n",
    "q1.Enqueue(40)\n",
    "q1.Enqueue(50)"
   ]
  },
  {
   "cell_type": "code",
   "execution_count": 28,
   "id": "7320d836",
   "metadata": {},
   "outputs": [
    {
     "name": "stdout",
     "output_type": "stream",
     "text": [
      "[50, 40, 30, 20, 10] "
     ]
    }
   ],
   "source": [
    "q1.print_queue()"
   ]
  },
  {
   "cell_type": "code",
   "execution_count": 29,
   "id": "eaa0c4fa",
   "metadata": {},
   "outputs": [],
   "source": [
    "q1.Dequeue()"
   ]
  },
  {
   "cell_type": "code",
   "execution_count": 30,
   "id": "b9a49b8c",
   "metadata": {},
   "outputs": [
    {
     "name": "stdout",
     "output_type": "stream",
     "text": [
      "[50, 40, 30, 20] "
     ]
    }
   ],
   "source": [
    "q1.print_queue()"
   ]
  },
  {
   "cell_type": "code",
   "execution_count": 31,
   "id": "8c0b613c",
   "metadata": {},
   "outputs": [
    {
     "data": {
      "text/plain": [
       "50"
      ]
     },
     "execution_count": 31,
     "metadata": {},
     "output_type": "execute_result"
    }
   ],
   "source": [
    "q1.rear()"
   ]
  },
  {
   "cell_type": "code",
   "execution_count": 32,
   "id": "96ab73e6",
   "metadata": {},
   "outputs": [
    {
     "data": {
      "text/plain": [
       "20"
      ]
     },
     "execution_count": 32,
     "metadata": {},
     "output_type": "execute_result"
    }
   ],
   "source": [
    "q1.front()"
   ]
  },
  {
   "cell_type": "code",
   "execution_count": 33,
   "id": "31a52615",
   "metadata": {},
   "outputs": [],
   "source": [
    "q1.Dequeue()"
   ]
  },
  {
   "cell_type": "code",
   "execution_count": 34,
   "id": "12114d76",
   "metadata": {},
   "outputs": [
    {
     "data": {
      "text/plain": [
       "30"
      ]
     },
     "execution_count": 34,
     "metadata": {},
     "output_type": "execute_result"
    }
   ],
   "source": [
    "q1.front()"
   ]
  },
  {
   "cell_type": "code",
   "execution_count": 35,
   "id": "6fda8985",
   "metadata": {},
   "outputs": [
    {
     "data": {
      "text/plain": [
       "False"
      ]
     },
     "execution_count": 35,
     "metadata": {},
     "output_type": "execute_result"
    }
   ],
   "source": [
    "q1.is_full()"
   ]
  },
  {
   "cell_type": "code",
   "execution_count": 36,
   "id": "9c79fd93",
   "metadata": {},
   "outputs": [
    {
     "data": {
      "text/plain": [
       "False"
      ]
     },
     "execution_count": 36,
     "metadata": {},
     "output_type": "execute_result"
    }
   ],
   "source": [
    "q1.is_empty()"
   ]
  },
  {
   "cell_type": "code",
   "execution_count": 37,
   "id": "8e97e692",
   "metadata": {},
   "outputs": [
    {
     "data": {
      "text/plain": [
       "3"
      ]
     },
     "execution_count": 37,
     "metadata": {},
     "output_type": "execute_result"
    }
   ],
   "source": [
    "q1.size()"
   ]
  },
  {
   "cell_type": "code",
   "execution_count": null,
   "id": "b363bd5b",
   "metadata": {},
   "outputs": [],
   "source": []
  }
 ],
 "metadata": {
  "kernelspec": {
   "display_name": "Python 3 (ipykernel)",
   "language": "python",
   "name": "python3"
  },
  "language_info": {
   "codemirror_mode": {
    "name": "ipython",
    "version": 3
   },
   "file_extension": ".py",
   "mimetype": "text/x-python",
   "name": "python",
   "nbconvert_exporter": "python",
   "pygments_lexer": "ipython3",
   "version": "3.9.12"
  }
 },
 "nbformat": 4,
 "nbformat_minor": 5
}

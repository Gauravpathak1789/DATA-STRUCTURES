{
 "cells": [
  {
   "cell_type": "code",
   "execution_count": 4,
   "id": "6b86256e",
   "metadata": {},
   "outputs": [],
   "source": [
    "class Dequeue:\n",
    "    \n",
    "    def __init__(self,maxsize=None):\n",
    "        self.mylist=[]\n",
    "        self.maxsize=maxsize\n",
    "    \n",
    "    def is_empty(self):\n",
    "        return len(self.mylist)==0\n",
    "    \n",
    "    \n",
    "    def insert_Front(self,data):\n",
    "        if len(self.mylist)<self.maxsize:\n",
    "            self.mylist.append(data)\n",
    "        else:\n",
    "            raise AttributeError(\"Queue is full\")\n",
    "            \n",
    "            \n",
    "    def insert_rear(self,data):\n",
    "        if len(self.mylist)<self.maxsize:\n",
    "            self.mylist.insert(0,data)\n",
    "        else:\n",
    "            raise AttributeError(\"Queue is full\")\n",
    "            \n",
    "        \n",
    "    def delete_Front(self):\n",
    "        if not self.is_empty():\n",
    "            self.mylist.pop()\n",
    "        else:\n",
    "            raise AttributeError(\"Queue is empty\")\n",
    "            \n",
    "    \n",
    "    def delete_rear(self):\n",
    "        if not self.is_empty():\n",
    "            self.mylist.pop(0)\n",
    "        else:\n",
    "            raise AttributeError(\"Queue is empty\")\n",
    "    \n",
    "    def get_front(self):\n",
    "        if not self.is_empty():\n",
    "            return self.mylist[-1]\n",
    "        else:\n",
    "            raise AttributeError(\"Queue is empty\")\n",
    "    \n",
    "    def get_rear(self):\n",
    "        if not self.is_empty():\n",
    "            return self.mylist[0]\n",
    "        else:\n",
    "            raise AttributeError(\"Queue is empty\")\n",
    "    \n",
    "    def size(self):\n",
    "        return len(self.mylist)\n",
    "    \n",
    "    def is_full(self):\n",
    "        return len(self.mylist)==self.maxsize\n",
    "    "
   ]
  },
  {
   "cell_type": "code",
   "execution_count": 10,
   "id": "3deb8fc3",
   "metadata": {},
   "outputs": [],
   "source": [
    "d1=Dequeue(5)"
   ]
  },
  {
   "cell_type": "code",
   "execution_count": 11,
   "id": "14f7ed01",
   "metadata": {},
   "outputs": [
    {
     "data": {
      "text/plain": [
       "True"
      ]
     },
     "execution_count": 11,
     "metadata": {},
     "output_type": "execute_result"
    }
   ],
   "source": [
    "d1.is_empty()"
   ]
  },
  {
   "cell_type": "code",
   "execution_count": 12,
   "id": "c8e23595",
   "metadata": {},
   "outputs": [],
   "source": [
    "d1.insert_rear(10)\n",
    "d1.insert_rear(20)\n",
    "d1.insert_rear(30)\n",
    "d1.insert_rear(40)\n"
   ]
  },
  {
   "cell_type": "code",
   "execution_count": 13,
   "id": "70b8fedf",
   "metadata": {},
   "outputs": [
    {
     "data": {
      "text/plain": [
       "10"
      ]
     },
     "execution_count": 13,
     "metadata": {},
     "output_type": "execute_result"
    }
   ],
   "source": [
    "d1.get_front()"
   ]
  },
  {
   "cell_type": "code",
   "execution_count": 14,
   "id": "7ea8d7a4",
   "metadata": {},
   "outputs": [
    {
     "data": {
      "text/plain": [
       "40"
      ]
     },
     "execution_count": 14,
     "metadata": {},
     "output_type": "execute_result"
    }
   ],
   "source": [
    "d1.get_rear()"
   ]
  },
  {
   "cell_type": "code",
   "execution_count": 15,
   "id": "f2917cd4",
   "metadata": {},
   "outputs": [],
   "source": [
    "d1.insert_Front(33)"
   ]
  },
  {
   "cell_type": "code",
   "execution_count": 16,
   "id": "f932f6e6",
   "metadata": {},
   "outputs": [
    {
     "data": {
      "text/plain": [
       "True"
      ]
     },
     "execution_count": 16,
     "metadata": {},
     "output_type": "execute_result"
    }
   ],
   "source": [
    "d1.is_full()"
   ]
  },
  {
   "cell_type": "code",
   "execution_count": 17,
   "id": "0ea8ae99",
   "metadata": {},
   "outputs": [
    {
     "ename": "AttributeError",
     "evalue": "Queue is full",
     "output_type": "error",
     "traceback": [
      "\u001b[1;31m---------------------------------------------------------------------------\u001b[0m",
      "\u001b[1;31mAttributeError\u001b[0m                            Traceback (most recent call last)",
      "Input \u001b[1;32mIn [17]\u001b[0m, in \u001b[0;36m<cell line: 1>\u001b[1;34m()\u001b[0m\n\u001b[1;32m----> 1\u001b[0m \u001b[43md1\u001b[49m\u001b[38;5;241;43m.\u001b[39;49m\u001b[43minsert_Front\u001b[49m\u001b[43m(\u001b[49m\u001b[38;5;241;43m90\u001b[39;49m\u001b[43m)\u001b[49m\n",
      "Input \u001b[1;32mIn [4]\u001b[0m, in \u001b[0;36mDequeue.insert_Front\u001b[1;34m(self, data)\u001b[0m\n\u001b[0;32m     13\u001b[0m     \u001b[38;5;28mself\u001b[39m\u001b[38;5;241m.\u001b[39mmylist\u001b[38;5;241m.\u001b[39mappend(data)\n\u001b[0;32m     14\u001b[0m \u001b[38;5;28;01melse\u001b[39;00m:\n\u001b[1;32m---> 15\u001b[0m     \u001b[38;5;28;01mraise\u001b[39;00m \u001b[38;5;167;01mAttributeError\u001b[39;00m(\u001b[38;5;124m\"\u001b[39m\u001b[38;5;124mQueue is full\u001b[39m\u001b[38;5;124m\"\u001b[39m)\n",
      "\u001b[1;31mAttributeError\u001b[0m: Queue is full"
     ]
    }
   ],
   "source": [
    "d1.insert_Front(90)"
   ]
  },
  {
   "cell_type": "code",
   "execution_count": 18,
   "id": "f49772f7",
   "metadata": {},
   "outputs": [
    {
     "data": {
      "text/plain": [
       "33"
      ]
     },
     "execution_count": 18,
     "metadata": {},
     "output_type": "execute_result"
    }
   ],
   "source": [
    "d1.get_front()"
   ]
  },
  {
   "cell_type": "code",
   "execution_count": 19,
   "id": "a82cf92e",
   "metadata": {},
   "outputs": [],
   "source": [
    "d1.delete_Front()"
   ]
  },
  {
   "cell_type": "code",
   "execution_count": 20,
   "id": "a3942962",
   "metadata": {},
   "outputs": [
    {
     "data": {
      "text/plain": [
       "10"
      ]
     },
     "execution_count": 20,
     "metadata": {},
     "output_type": "execute_result"
    }
   ],
   "source": [
    "d1.get_front()"
   ]
  },
  {
   "cell_type": "code",
   "execution_count": 21,
   "id": "90905b92",
   "metadata": {},
   "outputs": [
    {
     "data": {
      "text/plain": [
       "False"
      ]
     },
     "execution_count": 21,
     "metadata": {},
     "output_type": "execute_result"
    }
   ],
   "source": [
    "d1.is_empty()"
   ]
  },
  {
   "cell_type": "code",
   "execution_count": 22,
   "id": "de10e7db",
   "metadata": {},
   "outputs": [],
   "source": [
    "d1.delete_rear()"
   ]
  },
  {
   "cell_type": "code",
   "execution_count": 23,
   "id": "23abb92f",
   "metadata": {},
   "outputs": [
    {
     "data": {
      "text/plain": [
       "30"
      ]
     },
     "execution_count": 23,
     "metadata": {},
     "output_type": "execute_result"
    }
   ],
   "source": [
    "d1.get_rear()"
   ]
  },
  {
   "cell_type": "code",
   "execution_count": null,
   "id": "dfb0b4b9",
   "metadata": {},
   "outputs": [],
   "source": []
  }
 ],
 "metadata": {
  "kernelspec": {
   "display_name": "Python 3 (ipykernel)",
   "language": "python",
   "name": "python3"
  },
  "language_info": {
   "codemirror_mode": {
    "name": "ipython",
    "version": 3
   },
   "file_extension": ".py",
   "mimetype": "text/x-python",
   "name": "python",
   "nbconvert_exporter": "python",
   "pygments_lexer": "ipython3",
   "version": "3.9.12"
  }
 },
 "nbformat": 4,
 "nbformat_minor": 5
}

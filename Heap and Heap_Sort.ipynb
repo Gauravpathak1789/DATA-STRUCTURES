{
 "cells": [
  {
   "cell_type": "code",
   "execution_count": 23,
   "id": "579cbe24",
   "metadata": {},
   "outputs": [],
   "source": [
    "\n",
    "class Heap:\n",
    "    \n",
    "    def __init__(self):\n",
    "        self.heap=[]\n",
    "        \n",
    "    def createHeap(self,list1):\n",
    "        for e in list1:\n",
    "            self.insert(e)\n",
    "        \n",
    "    def insert(self,e):\n",
    "        index=len(self.heap)\n",
    "        parentIndex=(index-1)//2\n",
    "        while index>0 and self.heap[parentIndex]<e:\n",
    "            if index==len(self.heap):\n",
    "                self.heap.append(self.heap[parentIndex])\n",
    "            else:\n",
    "                self.heap[index]=self.heap[parentIndex]\n",
    "            index=parentIndex\n",
    "            parentIndex=(index-1)//2\n",
    "        if index==len(self.heap):\n",
    "            self.heap.append(e)\n",
    "        else:\n",
    "            self.heap[index]=e\n",
    "    \n",
    "    def top(self):\n",
    "        if len(self.heap)==0:\n",
    "            raise EmptyHeapException()\n",
    "        return self.heap[0]\n",
    "    \n",
    "    def delete(self):\n",
    "        if len(self.heap)==0:\n",
    "            raise EmptyHeapException()\n",
    "        if len(self.heap)==1:\n",
    "            return self.heap.pop()\n",
    "        max_value=self.heap[0]\n",
    "        temp=self.heap.pop()\n",
    "        index=0\n",
    "        leftchildindex=2*index+1\n",
    "        rightchildindex=2*index+2\n",
    "        \n",
    "        while leftchildindex<len(self.heap):\n",
    "            if rightchildindex<len(self.heap):\n",
    "                \n",
    "                if self.heap[leftchildindex]>self.heap[rightchildindex]:\n",
    "                    if self.heap[leftchildindex]>temp:\n",
    "                        self.heap[index]=self.heap[leftchildindex]\n",
    "                        index=leftchildindex\n",
    "                    else:\n",
    "                        break\n",
    "                else:\n",
    "                    if self.heap[rightchildindex]>temp:\n",
    "                        self.heap[index]=self.heap[rightchildindex]\n",
    "                        index=rightchildindex\n",
    "                        \n",
    "                    else:\n",
    "                        break\n",
    "                        \n",
    "            else:\n",
    "                if self.heap[leftchildindex]>temp:\n",
    "                        self.heap[index]=self.heap[leftchildindex]\n",
    "                        index=leftchildindex\n",
    "                else:\n",
    "                    break\n",
    "                        \n",
    "            leftchildindex=2*index+1\n",
    "            rightchildindex=2*index+2\n",
    "            \n",
    "        self.heap[index]=temp\n",
    "        return max_value\n",
    "            \n",
    "            \n",
    "            \n",
    "    def heapsort(self,list1):\n",
    "        self.createHeap(list1)\n",
    "        list2=[]\n",
    "        try:\n",
    "            while True:\n",
    "                list2.insert(0,self.delete())\n",
    "        except EmptyHeapException:\n",
    "            pass\n",
    "        return list2\n",
    "                \n",
    "                \n",
    "        \n",
    "        \n",
    "class EmptyHeapException(Exception):\n",
    "    def __init__(self,msg=\"empty heap\"):\n",
    "        self.msg=msg\n",
    "    def __str__(self):\n",
    "        return self.msg        \n",
    "        \n",
    "        \n",
    "    \n",
    "\n",
    "        \n",
    "            "
   ]
  },
  {
   "cell_type": "code",
   "execution_count": 24,
   "id": "f3673a6c",
   "metadata": {},
   "outputs": [],
   "source": [
    "list1=[34,56,12,78,43,25,10,80,60]"
   ]
  },
  {
   "cell_type": "code",
   "execution_count": 25,
   "id": "17b1115b",
   "metadata": {},
   "outputs": [],
   "source": [
    "h1=Heap()"
   ]
  },
  {
   "cell_type": "code",
   "execution_count": 26,
   "id": "3db426ee",
   "metadata": {},
   "outputs": [
    {
     "data": {
      "text/plain": [
       "[10, 12, 25, 34, 43, 56, 60, 78, 80]"
      ]
     },
     "execution_count": 26,
     "metadata": {},
     "output_type": "execute_result"
    }
   ],
   "source": [
    "h1.heapsort(list1)"
   ]
  },
  {
   "cell_type": "code",
   "execution_count": null,
   "id": "de80b486",
   "metadata": {},
   "outputs": [],
   "source": []
  }
 ],
 "metadata": {
  "kernelspec": {
   "display_name": "Python 3 (ipykernel)",
   "language": "python",
   "name": "python3"
  },
  "language_info": {
   "codemirror_mode": {
    "name": "ipython",
    "version": 3
   },
   "file_extension": ".py",
   "mimetype": "text/x-python",
   "name": "python",
   "nbconvert_exporter": "python",
   "pygments_lexer": "ipython3",
   "version": "3.9.12"
  }
 },
 "nbformat": 4,
 "nbformat_minor": 5
}

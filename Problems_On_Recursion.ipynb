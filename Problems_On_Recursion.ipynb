{
 "cells": [
  {
   "cell_type": "raw",
   "id": "47e1d061",
   "metadata": {},
   "source": [
    "Q.# Write a recursive function to print first N natural numbers?"
   ]
  },
  {
   "cell_type": "code",
   "execution_count": 3,
   "id": "a512446b",
   "metadata": {},
   "outputs": [
    {
     "name": "stdout",
     "output_type": "stream",
     "text": [
      "enter the number 4\n",
      "1 2 3 4 "
     ]
    }
   ],
   "source": [
    "# ans:- \n",
    "def natural_no(num):\n",
    "    if num>0:\n",
    "        natural_no(num-1)\n",
    "        print(num,end=\" \")\n",
    "n=int(input(\"enter the number \"))\n",
    "natural_no(n)"
   ]
  },
  {
   "cell_type": "raw",
   "id": "82e4dacd",
   "metadata": {},
   "source": [
    "Q.# Write a recursive function to print first N natural numbers in reverse order?"
   ]
  },
  {
   "cell_type": "code",
   "execution_count": 4,
   "id": "ee5114eb",
   "metadata": {},
   "outputs": [
    {
     "name": "stdout",
     "output_type": "stream",
     "text": [
      "enter the number 4\n",
      "4 3 2 1 "
     ]
    }
   ],
   "source": [
    "#ans-\n",
    "def reverse_natural_no(num):\n",
    "    if num>0:\n",
    "        print(num,end=\" \")\n",
    "        reverse_natural_no(num-1)\n",
    "n=int(input(\"enter the number \"))\n",
    "reverse_natural_no(n)"
   ]
  },
  {
   "cell_type": "raw",
   "id": "7f826ef3",
   "metadata": {},
   "source": [
    "Q.# Write a recursive function to print first N Odd natural numbers?"
   ]
  },
  {
   "cell_type": "code",
   "execution_count": 5,
   "id": "ceca5671",
   "metadata": {},
   "outputs": [
    {
     "name": "stdout",
     "output_type": "stream",
     "text": [
      "enter the number 4\n",
      "1 3 5 7 "
     ]
    }
   ],
   "source": [
    "#ans-\n",
    "def odd_natural_no(num):\n",
    "    if num>0:\n",
    "        odd_natural_no(num-1)\n",
    "        print(num*2-1,end=\" \")\n",
    "n=int(input(\"enter the number \"))\n",
    "odd_natural_no(n)"
   ]
  },
  {
   "cell_type": "raw",
   "id": "48b0d386",
   "metadata": {},
   "source": [
    "Q.# Write a recursive function to print first N even natural numbers?"
   ]
  },
  {
   "cell_type": "code",
   "execution_count": 6,
   "id": "25230270",
   "metadata": {},
   "outputs": [
    {
     "name": "stdout",
     "output_type": "stream",
     "text": [
      "enter the number 4\n",
      "2 4 6 8 "
     ]
    }
   ],
   "source": [
    "#ans-\n",
    "def even_natural_no(num):\n",
    "    if num>0:\n",
    "        even_natural_no(num-1)\n",
    "        print(num*2,end=\" \")\n",
    "n=int(input(\"enter the number \"))\n",
    "even_natural_no(n)"
   ]
  },
  {
   "cell_type": "raw",
   "id": "c4e8827f",
   "metadata": {},
   "source": [
    "Q.# Write a recursive function to print first N reverse Odd natural numbers?"
   ]
  },
  {
   "cell_type": "code",
   "execution_count": 7,
   "id": "2cf539e0",
   "metadata": {},
   "outputs": [
    {
     "name": "stdout",
     "output_type": "stream",
     "text": [
      "enter the number 5\n",
      "9 7 5 3 1 "
     ]
    }
   ],
   "source": [
    "#ans-\n",
    "def odd_natural_no(num):\n",
    "    if num>0:\n",
    "        print(num*2-1,end=\" \")\n",
    "        odd_natural_no(num-1)\n",
    "n=int(input(\"enter the number \"))\n",
    "odd_natural_no(n)"
   ]
  },
  {
   "cell_type": "raw",
   "id": "5765bddb",
   "metadata": {},
   "source": [
    "Q.# Write a recursive function to print first N reverse even natural numbers?"
   ]
  },
  {
   "cell_type": "code",
   "execution_count": 8,
   "id": "f21ffc50",
   "metadata": {},
   "outputs": [
    {
     "name": "stdout",
     "output_type": "stream",
     "text": [
      "enter the number 4\n",
      "8 6 4 2 "
     ]
    }
   ],
   "source": [
    "#ans-\n",
    "def even_natural_no(num):\n",
    "    if num>0:\n",
    "        print(num*2,end=\" \")\n",
    "        even_natural_no(num-1)\n",
    "n=int(input(\"enter the number \"))\n",
    "even_natural_no(n)"
   ]
  },
  {
   "cell_type": "raw",
   "id": "f601c763",
   "metadata": {},
   "source": [
    "Q.# Write a recursive function to print the sum of first N natural numbers?"
   ]
  },
  {
   "cell_type": "code",
   "execution_count": 9,
   "id": "a71d0de8",
   "metadata": {},
   "outputs": [
    {
     "name": "stdout",
     "output_type": "stream",
     "text": [
      "enter the number 4\n"
     ]
    },
    {
     "data": {
      "text/plain": [
       "10"
      ]
     },
     "execution_count": 9,
     "metadata": {},
     "output_type": "execute_result"
    }
   ],
   "source": [
    "#ans-\n",
    "def sum_n_natural_no(num):\n",
    "    if num==0:\n",
    "        return 0\n",
    "    return num+sum_n_natural_no(num-1)\n",
    "n=int(input(\"enter the number \"))\n",
    "sum_n_natural_no(n)"
   ]
  },
  {
   "cell_type": "raw",
   "id": "4cbc443f",
   "metadata": {},
   "source": [
    "Q.# Write a recursive function to print sum of  first N Odd natural numbers?"
   ]
  },
  {
   "cell_type": "code",
   "execution_count": 10,
   "id": "520bad06",
   "metadata": {},
   "outputs": [
    {
     "name": "stdout",
     "output_type": "stream",
     "text": [
      "enter the number 5\n"
     ]
    },
    {
     "data": {
      "text/plain": [
       "25"
      ]
     },
     "execution_count": 10,
     "metadata": {},
     "output_type": "execute_result"
    }
   ],
   "source": [
    "#ans-\n",
    "def sum_n_natural_no(num):\n",
    "    if num==0:\n",
    "        return 0\n",
    "    return num*2-1+sum_n_natural_no(num-1)\n",
    "n=int(input(\"enter the number \"))\n",
    "sum_n_natural_no(n)"
   ]
  },
  {
   "cell_type": "raw",
   "id": "8a3e9ac7",
   "metadata": {},
   "source": [
    "Q.# Write a recursive function to print sum of  first N even natural numbers?"
   ]
  },
  {
   "cell_type": "code",
   "execution_count": 11,
   "id": "21710eab",
   "metadata": {},
   "outputs": [
    {
     "name": "stdout",
     "output_type": "stream",
     "text": [
      "enter the number 5\n"
     ]
    },
    {
     "data": {
      "text/plain": [
       "30"
      ]
     },
     "execution_count": 11,
     "metadata": {},
     "output_type": "execute_result"
    }
   ],
   "source": [
    "#ans-\n",
    "def sum_n_natural_no(num):\n",
    "    if num==0:\n",
    "        return 0\n",
    "    return num*2+sum_n_natural_no(num-1)\n",
    "n=int(input(\"enter the number \"))\n",
    "sum_n_natural_no(n)"
   ]
  },
  {
   "cell_type": "raw",
   "id": "681461fa",
   "metadata": {},
   "source": [
    "Q.write a recursive function to calculate a factorial of a number?"
   ]
  },
  {
   "cell_type": "code",
   "execution_count": 12,
   "id": "242930ef",
   "metadata": {},
   "outputs": [
    {
     "name": "stdout",
     "output_type": "stream",
     "text": [
      "enter the number 4\n"
     ]
    },
    {
     "data": {
      "text/plain": [
       "24"
      ]
     },
     "execution_count": 12,
     "metadata": {},
     "output_type": "execute_result"
    }
   ],
   "source": [
    "def factorial(num):\n",
    "    if num==1:\n",
    "        return 1\n",
    "    else:\n",
    "        return num*factorial(num-1)\n",
    "n=int(input(\"enter the number \"))\n",
    "factorial(n)"
   ]
  },
  {
   "cell_type": "raw",
   "id": "19b20c82",
   "metadata": {},
   "source": [
    "Q.write a recursive function to calculate the sum of squares of first N natural number?"
   ]
  },
  {
   "cell_type": "code",
   "execution_count": 2,
   "id": "7c0a1c91",
   "metadata": {},
   "outputs": [
    {
     "name": "stdout",
     "output_type": "stream",
     "text": [
      "enter the number 3\n"
     ]
    },
    {
     "data": {
      "text/plain": [
       "14"
      ]
     },
     "execution_count": 2,
     "metadata": {},
     "output_type": "execute_result"
    }
   ],
   "source": [
    "def sum_square_n(num):\n",
    "    if num==1:\n",
    "        return 1\n",
    "    return num**2+sum_square_n(num-1)\n",
    "n=int(input(\"enter the number \"))\n",
    "sum_square_n(n)"
   ]
  },
  {
   "cell_type": "code",
   "execution_count": null,
   "id": "87eaab08",
   "metadata": {},
   "outputs": [],
   "source": []
  }
 ],
 "metadata": {
  "kernelspec": {
   "display_name": "Python 3 (ipykernel)",
   "language": "python",
   "name": "python3"
  },
  "language_info": {
   "codemirror_mode": {
    "name": "ipython",
    "version": 3
   },
   "file_extension": ".py",
   "mimetype": "text/x-python",
   "name": "python",
   "nbconvert_exporter": "python",
   "pygments_lexer": "ipython3",
   "version": "3.9.12"
  }
 },
 "nbformat": 4,
 "nbformat_minor": 5
}

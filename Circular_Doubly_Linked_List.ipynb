{
 "cells": [
  {
   "cell_type": "code",
   "execution_count": 1,
   "id": "71250de3",
   "metadata": {},
   "outputs": [],
   "source": [
    "class Node:\n",
    "    \n",
    "    def __init__(self,item=None,prev=None,next=None):\n",
    "        self.prev=prev\n",
    "        self.item=item\n",
    "        self.next=next\n",
    "        \n",
    "class  CDLL:\n",
    "    \n",
    "    def __init__(self,start=None):\n",
    "        self.start=start\n",
    "    \n",
    "    def is_empty(self):\n",
    "        return self.start==None\n",
    "    \n",
    "    def insert_at_start(self,data):\n",
    "        if not self.is_empty():\n",
    "                new_node=Node(data,self.start.prev,self.start)\n",
    "                self.start.prev.next=new_node\n",
    "                self.start.prev=new_node\n",
    "                self.start=new_node\n",
    "        else:\n",
    "            new_node=Node(data)\n",
    "            new_node.prev=new_node\n",
    "            new_node.next=new_node\n",
    "            self.start=new_node\n",
    "    \n",
    "    def insert_at_last(self,data):\n",
    "        if not self.is_empty():\n",
    "            new_node=Node(data,self.start.prev,self.start)\n",
    "            self.start.prev.next=new_node\n",
    "            self.start.prev=new_node\n",
    "        else:\n",
    "            new_node=Node(data)\n",
    "            new_node.next=new_node\n",
    "            new_node.prev=new_node\n",
    "            self.start=new_node\n",
    "            \n",
    "    def search(self,data):\n",
    "        if not self.is_empty():\n",
    "            if self.start.item==data:\n",
    "                return self.start\n",
    "            else:\n",
    "                temp=self.start.next\n",
    "                while temp!=self.start:\n",
    "                    if temp.item==data:\n",
    "                        return temp\n",
    "                    temp=temp.next\n",
    "                    \n",
    "        else:\n",
    "            pass\n",
    "    \n",
    "    def insert_after(self,data,N):\n",
    "        if not self.is_empty():\n",
    "            new_node=Node(data,N,N.next)\n",
    "            N.next.prev=new_node\n",
    "            N.next=new_node\n",
    "        else:\n",
    "            pass\n",
    "        \n",
    "    def print_all(self):\n",
    "        if not self.is_empty():\n",
    "            print(self.start.item,end=\" \")\n",
    "            temp=self.start.next\n",
    "            while temp!=self.start:\n",
    "                print(temp.item,end=\" \")\n",
    "                temp=temp.next\n",
    "        else:\n",
    "            pass\n",
    "        \n",
    "    def delete_first(self):\n",
    "        if not self.is_empty():\n",
    "            if self.start.next==self.start:\n",
    "                self.start=None\n",
    "            else:\n",
    "                self.start.prev.next=self.start.next\n",
    "                self.start.next.prev=self.start.prev\n",
    "                self.start=self.start.next\n",
    "        else:\n",
    "            pass\n",
    "        \n",
    "    def delete_last(self):\n",
    "        if not self.is_empty():\n",
    "            if self.start.next==self.start:\n",
    "                self.start=None\n",
    "            else:\n",
    "                self.start.prev.prev.next=self.start\n",
    "                self.start.prev=self.start.prev.prev\n",
    "                \n",
    "        else:\n",
    "            pass\n",
    "        \n",
    "    def delete_item(self,data):\n",
    "        if not self.is_empty():\n",
    "            if self.start.item==data:\n",
    "                self.delete_first()\n",
    "            else:\n",
    "                temp=self.start.next\n",
    "                while temp!=self.start:\n",
    "                    if temp.item==data:\n",
    "                        temp.prev.next=temp.next\n",
    "                        temp.next.prev=temp.prev\n",
    "                    temp=temp.next\n",
    "                        \n",
    "        \n",
    "        \n",
    "            \n",
    "                \n",
    "            "
   ]
  },
  {
   "cell_type": "code",
   "execution_count": 2,
   "id": "9e14c247",
   "metadata": {},
   "outputs": [],
   "source": [
    "cdl1=CDLL()"
   ]
  },
  {
   "cell_type": "code",
   "execution_count": 3,
   "id": "a1caaf81",
   "metadata": {},
   "outputs": [
    {
     "data": {
      "text/plain": [
       "True"
      ]
     },
     "execution_count": 3,
     "metadata": {},
     "output_type": "execute_result"
    }
   ],
   "source": [
    "cdl1.is_empty()"
   ]
  },
  {
   "cell_type": "code",
   "execution_count": 4,
   "id": "e4974bb6",
   "metadata": {},
   "outputs": [],
   "source": [
    "cdl1.insert_at_start(50)\n",
    "cdl1.insert_at_start(40)\n",
    "cdl1.insert_at_start(30)\n",
    "cdl1.insert_at_start(20)\n",
    "cdl1.insert_at_start(10)"
   ]
  },
  {
   "cell_type": "code",
   "execution_count": 5,
   "id": "4623089c",
   "metadata": {},
   "outputs": [
    {
     "name": "stdout",
     "output_type": "stream",
     "text": [
      "10 20 30 40 50 "
     ]
    }
   ],
   "source": [
    "cdl1.print_all()"
   ]
  },
  {
   "cell_type": "code",
   "execution_count": 6,
   "id": "c8d646fb",
   "metadata": {},
   "outputs": [
    {
     "data": {
      "text/plain": [
       "<__main__.Node at 0x1638eca9e80>"
      ]
     },
     "execution_count": 6,
     "metadata": {},
     "output_type": "execute_result"
    }
   ],
   "source": [
    "cdl1.search(20)"
   ]
  },
  {
   "cell_type": "code",
   "execution_count": 7,
   "id": "92321650",
   "metadata": {},
   "outputs": [],
   "source": [
    "cdl1.insert_at_last(60)"
   ]
  },
  {
   "cell_type": "code",
   "execution_count": 8,
   "id": "2c750bb2",
   "metadata": {},
   "outputs": [],
   "source": [
    "cdl1.insert_at_last(70)\n",
    "cdl1.insert_at_last(80)"
   ]
  },
  {
   "cell_type": "code",
   "execution_count": 9,
   "id": "e08573f4",
   "metadata": {},
   "outputs": [],
   "source": [
    "cdl1.delete_first()"
   ]
  },
  {
   "cell_type": "code",
   "execution_count": 14,
   "id": "773388a4",
   "metadata": {},
   "outputs": [
    {
     "name": "stdout",
     "output_type": "stream",
     "text": [
      "20 30 50 60 70 "
     ]
    }
   ],
   "source": [
    "cdl1.print_all()\n"
   ]
  },
  {
   "cell_type": "code",
   "execution_count": 11,
   "id": "f50830ea",
   "metadata": {},
   "outputs": [],
   "source": [
    "cdl1.delete_last()"
   ]
  },
  {
   "cell_type": "code",
   "execution_count": 13,
   "id": "e979c1d6",
   "metadata": {},
   "outputs": [],
   "source": [
    "cdl1.delete_item(40)"
   ]
  },
  {
   "cell_type": "code",
   "execution_count": 15,
   "id": "3b408b95",
   "metadata": {},
   "outputs": [
    {
     "name": "stdout",
     "output_type": "stream",
     "text": [
      "20 30 50 60 70 "
     ]
    }
   ],
   "source": [
    "cdl1.print_all()"
   ]
  },
  {
   "cell_type": "code",
   "execution_count": 17,
   "id": "fd0255b4",
   "metadata": {},
   "outputs": [],
   "source": [
    "cdl1.insert_after(66,cdl1.start)"
   ]
  },
  {
   "cell_type": "code",
   "execution_count": 18,
   "id": "9b742e95",
   "metadata": {},
   "outputs": [
    {
     "name": "stdout",
     "output_type": "stream",
     "text": [
      "20 66 30 50 60 70 "
     ]
    }
   ],
   "source": [
    "cdl1.print_all()"
   ]
  },
  {
   "cell_type": "code",
   "execution_count": null,
   "id": "42f648d7",
   "metadata": {},
   "outputs": [],
   "source": []
  }
 ],
 "metadata": {
  "kernelspec": {
   "display_name": "Python 3 (ipykernel)",
   "language": "python",
   "name": "python3"
  },
  "language_info": {
   "codemirror_mode": {
    "name": "ipython",
    "version": 3
   },
   "file_extension": ".py",
   "mimetype": "text/x-python",
   "name": "python",
   "nbconvert_exporter": "python",
   "pygments_lexer": "ipython3",
   "version": "3.9.12"
  }
 },
 "nbformat": 4,
 "nbformat_minor": 5
}

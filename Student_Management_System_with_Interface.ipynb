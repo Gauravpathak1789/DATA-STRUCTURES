{
 "cells": [
  {
   "cell_type": "code",
   "execution_count": 5,
   "id": "7fecf722",
   "metadata": {},
   "outputs": [],
   "source": [
    "class Management_System:\n",
    "    \n",
    "    def __init__(self):\n",
    "        self.student_records={}\n",
    "    \n",
    "    def add_student(self,name,grades):\n",
    "        self.student_records[name]=grades\n",
    "        \n",
    "    def update_grade(self,name,index,whole_updation):\n",
    "        flag=False\n",
    "        for  i in self.student_records:\n",
    "            if i==name and whole_updation==\"no\":\n",
    "                self.student_records[i][index]=int(input())\n",
    "                flag=True\n",
    "            if i==name and whole_updation==\"yes\":\n",
    "                self.student_records[i]=int(input())\n",
    "                flag=True\n",
    "                \n",
    "        if not flag:\n",
    "            print(\"record dosen't exist\")\n",
    "                \n",
    "    def average_grade_of_a_student(self,name):\n",
    "        flag=False\n",
    "        for i in self.student_records:\n",
    "            if i==name:\n",
    "                avg=0\n",
    "                for i in self.student_records[name]:\n",
    "                    avg+=i\n",
    "                avg_grade=avg/len(self.student_records[name])\n",
    "                Flag=True\n",
    "        return avg_grade\n",
    "        if not flag:\n",
    "            print(f\"The name {i} is not found in records\")\n",
    "                \n",
    "    def highest_grade(self):\n",
    "        highest_grade=0\n",
    "        name1=\"\"\n",
    "        for name,grade in self.student_records.items():\n",
    "            percentage=(sum(grade)/(100*len(grade)))*100 \n",
    "            if percentage>highest_grade:\n",
    "                highest_grade=percentage\n",
    "                name1=name\n",
    "        \n",
    "        print(f\"Highest grade in the class achieved by {name1} that is {highest_grade}\")\n",
    "    \n",
    "    def check_student_records(self):\n",
    "        return self.student_records\n",
    "    \n",
    "       \n",
    "        \n",
    "            \n",
    "            \n",
    "        \n",
    "        \n",
    "        \n",
    "                \n",
    "                \n",
    "        \n",
    "        \n",
    "    \n",
    "            \n",
    "        \n",
    "        "
   ]
  },
  {
   "cell_type": "code",
   "execution_count": 6,
   "id": "9ee9379a",
   "metadata": {},
   "outputs": [],
   "source": [
    "m1=Management_System()"
   ]
  },
  {
   "cell_type": "code",
   "execution_count": 7,
   "id": "404ff7c9",
   "metadata": {},
   "outputs": [],
   "source": [
    "m1.add_student(\"surya\",[85,90,89])\n",
    "m1.add_student(\"rocky\",[80,9,77])\n",
    "m1.add_student(\"yash\",[56,54,78])\n",
    "m1.add_student(\"harsh\",[44,78,66])"
   ]
  },
  {
   "cell_type": "code",
   "execution_count": 8,
   "id": "2bad6f38",
   "metadata": {},
   "outputs": [
    {
     "data": {
      "text/plain": [
       "88.0"
      ]
     },
     "execution_count": 8,
     "metadata": {},
     "output_type": "execute_result"
    }
   ],
   "source": [
    "m1.average_grade_of_a_student(\"surya\")"
   ]
  },
  {
   "cell_type": "code",
   "execution_count": null,
   "id": "d9028935",
   "metadata": {},
   "outputs": [],
   "source": [
    "m1.highest_grade()"
   ]
  },
  {
   "cell_type": "code",
   "execution_count": null,
   "id": "ad64e0b4",
   "metadata": {},
   "outputs": [],
   "source": [
    "m1.update_grade(\"surya\",1,\"no\")"
   ]
  },
  {
   "cell_type": "code",
   "execution_count": 9,
   "id": "23baa4cc",
   "metadata": {},
   "outputs": [
    {
     "data": {
      "text/plain": [
       "{'surya': [85, 90, 89],\n",
       " 'rocky': [80, 9, 77],\n",
       " 'yash': [56, 54, 78],\n",
       " 'harsh': [44, 78, 66]}"
      ]
     },
     "execution_count": 9,
     "metadata": {},
     "output_type": "execute_result"
    }
   ],
   "source": [
    "m1.check_student_records()"
   ]
  },
  {
   "cell_type": "markdown",
   "id": "1fff1238",
   "metadata": {},
   "source": [
    "# Gradio Student Management interface :-"
   ]
  },
  {
   "cell_type": "code",
   "execution_count": 1,
   "id": "10b7f3d1",
   "metadata": {},
   "outputs": [
    {
     "name": "stdout",
     "output_type": "stream",
     "text": [
      "Defaulting to user installation because normal site-packages is not writeable\n",
      "Collecting gradio==3.50\n",
      "  Downloading gradio-3.50.0-py3-none-any.whl (20.3 MB)\n",
      "Requirement already satisfied: pydantic!=1.8,!=1.8.1,!=2.0.0,!=2.0.1,<3.0.0,>=1.7.4 in c:\\users\\gaurav pathak\\appdata\\roaming\\python\\python39\\site-packages (from gradio==3.50) (1.10.13)\n",
      "Collecting python-multipart\n",
      "  Downloading python_multipart-0.0.9-py3-none-any.whl (22 kB)\n",
      "Requirement already satisfied: pillow<11.0,>=8.0 in c:\\programdata\\anaconda3\\lib\\site-packages (from gradio==3.50) (9.0.1)\n",
      "Requirement already satisfied: requests~=2.0 in c:\\users\\gaurav pathak\\appdata\\roaming\\python\\python39\\site-packages (from gradio==3.50) (2.31.0)\n",
      "Requirement already satisfied: pyyaml<7.0,>=5.0 in c:\\programdata\\anaconda3\\lib\\site-packages (from gradio==3.50) (6.0)\n",
      "Collecting websockets<12.0,>=10.0\n",
      "  Downloading websockets-11.0.3-cp39-cp39-win_amd64.whl (124 kB)\n",
      "Requirement already satisfied: pandas<3.0,>=1.0 in c:\\programdata\\anaconda3\\lib\\site-packages (from gradio==3.50) (1.4.2)\n",
      "Requirement already satisfied: jinja2<4.0 in c:\\programdata\\anaconda3\\lib\\site-packages (from gradio==3.50) (2.11.3)\n",
      "Collecting importlib-resources<7.0,>=1.3\n",
      "  Using cached importlib_resources-6.4.0-py3-none-any.whl (38 kB)\n",
      "Requirement already satisfied: matplotlib~=3.0 in c:\\users\\gaurav pathak\\appdata\\roaming\\python\\python39\\site-packages (from gradio==3.50) (3.6.0)"
     ]
    },
    {
     "name": "stderr",
     "output_type": "stream",
     "text": [
      "  WARNING: The script watchfiles.exe is installed in 'C:\\Users\\Gaurav Pathak\\AppData\\Roaming\\Python\\Python39\\Scripts' which is not on PATH.\n",
      "  Consider adding this directory to PATH or, if you prefer to suppress this warning, use --no-warn-script-location.\n",
      "  WARNING: The script uvicorn.exe is installed in 'C:\\Users\\Gaurav Pathak\\AppData\\Roaming\\Python\\Python39\\Scripts' which is not on PATH.\n",
      "  Consider adding this directory to PATH or, if you prefer to suppress this warning, use --no-warn-script-location.\n",
      "  WARNING: The script typer.exe is installed in 'C:\\Users\\Gaurav Pathak\\AppData\\Roaming\\Python\\Python39\\Scripts' which is not on PATH.\n",
      "  Consider adding this directory to PATH or, if you prefer to suppress this warning, use --no-warn-script-location.\n",
      "  WARNING: The script dotenv.exe is installed in 'C:\\Users\\Gaurav Pathak\\AppData\\Roaming\\Python\\Python39\\Scripts' which is not on PATH.\n",
      "  Consider adding this directory to PATH or, if you prefer to suppress this warning, use --no-warn-script-location.\n",
      "  WARNING: The script huggingface-cli.exe is installed in 'C:\\Users\\Gaurav Pathak\\AppData\\Roaming\\Python\\Python39\\Scripts' which is not on PATH.\n",
      "  Consider adding this directory to PATH or, if you prefer to suppress this warning, use --no-warn-script-location.\n",
      "  WARNING: The script httpx.exe is installed in 'C:\\Users\\Gaurav Pathak\\AppData\\Roaming\\Python\\Python39\\Scripts' which is not on PATH.\n",
      "  Consider adding this directory to PATH or, if you prefer to suppress this warning, use --no-warn-script-location.\n",
      "  WARNING: The script fastapi.exe is installed in 'C:\\Users\\Gaurav Pathak\\AppData\\Roaming\\Python\\Python39\\Scripts' which is not on PATH.\n",
      "  Consider adding this directory to PATH or, if you prefer to suppress this warning, use --no-warn-script-location.\n",
      "  WARNING: The script email_validator.exe is installed in 'C:\\Users\\Gaurav Pathak\\AppData\\Roaming\\Python\\Python39\\Scripts' which is not on PATH.\n",
      "  Consider adding this directory to PATH or, if you prefer to suppress this warning, use --no-warn-script-location.\n",
      "  WARNING: The scripts gradio.exe and upload_theme.exe are installed in 'C:\\Users\\Gaurav Pathak\\AppData\\Roaming\\Python\\Python39\\Scripts' which is not on PATH.\n",
      "  Consider adding this directory to PATH or, if you prefer to suppress this warning, use --no-warn-script-location.\n"
     ]
    },
    {
     "name": "stdout",
     "output_type": "stream",
     "text": [
      "\n",
      "Collecting pydub\n",
      "  Downloading pydub-0.25.1-py2.py3-none-any.whl (32 kB)\n",
      "Collecting aiofiles<24.0,>=22.0\n",
      "  Downloading aiofiles-23.2.1-py3-none-any.whl (15 kB)\n",
      "Requirement already satisfied: packaging in c:\\programdata\\anaconda3\\lib\\site-packages (from gradio==3.50) (21.3)\n",
      "Collecting huggingface-hub>=0.14.0\n",
      "  Downloading huggingface_hub-0.24.5-py3-none-any.whl (417 kB)\n",
      "Collecting orjson~=3.0\n",
      "  Downloading orjson-3.10.6-cp39-none-win_amd64.whl (136 kB)\n",
      "Requirement already satisfied: typing-extensions~=4.0 in c:\\users\\gaurav pathak\\appdata\\roaming\\python\\python39\\site-packages (from gradio==3.50) (4.8.0)\n",
      "Collecting uvicorn>=0.14.0\n",
      "  Downloading uvicorn-0.30.4-py3-none-any.whl (62 kB)\n",
      "Collecting fastapi\n",
      "  Downloading fastapi-0.111.1-py3-none-any.whl (92 kB)\n",
      "Collecting ffmpy\n",
      "  Using cached ffmpy-0.4.0-py3-none-any.whl (5.8 kB)\n",
      "Requirement already satisfied: markupsafe~=2.0 in c:\\programdata\\anaconda3\\lib\\site-packages (from gradio==3.50) (2.0.1)\n",
      "Requirement already satisfied: numpy~=1.0 in c:\\programdata\\anaconda3\\lib\\site-packages (from gradio==3.50) (1.21.5)\n",
      "Collecting gradio-client==0.6.1\n",
      "  Downloading gradio_client-0.6.1-py3-none-any.whl (299 kB)\n",
      "Collecting semantic-version~=2.0\n",
      "  Downloading semantic_version-2.10.0-py2.py3-none-any.whl (15 kB)\n",
      "Collecting httpx\n",
      "  Downloading httpx-0.27.0-py3-none-any.whl (75 kB)\n",
      "Requirement already satisfied: altair<6.0,>=4.2.0 in c:\\users\\gaurav pathak\\appdata\\roaming\\python\\python39\\site-packages (from gradio==3.50) (4.2.0)\n",
      "Requirement already satisfied: fsspec in c:\\programdata\\anaconda3\\lib\\site-packages (from gradio-client==0.6.1->gradio==3.50) (2022.2.0)\n",
      "Requirement already satisfied: entrypoints in c:\\programdata\\anaconda3\\lib\\site-packages (from altair<6.0,>=4.2.0->gradio==3.50) (0.4)\n",
      "Requirement already satisfied: toolz in c:\\programdata\\anaconda3\\lib\\site-packages (from altair<6.0,>=4.2.0->gradio==3.50) (0.11.2)\n",
      "Requirement already satisfied: jsonschema>=3.0 in c:\\programdata\\anaconda3\\lib\\site-packages (from altair<6.0,>=4.2.0->gradio==3.50) (4.4.0)\n",
      "Requirement already satisfied: tqdm>=4.42.1 in c:\\programdata\\anaconda3\\lib\\site-packages (from huggingface-hub>=0.14.0->gradio==3.50) (4.64.0)\n",
      "Collecting fsspec\n",
      "  Downloading fsspec-2024.6.1-py3-none-any.whl (177 kB)\n",
      "Requirement already satisfied: filelock in c:\\programdata\\anaconda3\\lib\\site-packages (from huggingface-hub>=0.14.0->gradio==3.50) (3.6.0)\n",
      "Requirement already satisfied: zipp>=3.1.0 in c:\\programdata\\anaconda3\\lib\\site-packages (from importlib-resources<7.0,>=1.3->gradio==3.50) (3.7.0)\n",
      "Requirement already satisfied: pyrsistent!=0.17.0,!=0.17.1,!=0.17.2,>=0.14.0 in c:\\programdata\\anaconda3\\lib\\site-packages (from jsonschema>=3.0->altair<6.0,>=4.2.0->gradio==3.50) (0.18.0)\n",
      "Requirement already satisfied: attrs>=17.4.0 in c:\\programdata\\anaconda3\\lib\\site-packages (from jsonschema>=3.0->altair<6.0,>=4.2.0->gradio==3.50) (21.4.0)\n",
      "Requirement already satisfied: contourpy>=1.0.1 in c:\\users\\gaurav pathak\\appdata\\roaming\\python\\python39\\site-packages (from matplotlib~=3.0->gradio==3.50) (1.0.6)\n",
      "Requirement already satisfied: python-dateutil>=2.7 in c:\\programdata\\anaconda3\\lib\\site-packages (from matplotlib~=3.0->gradio==3.50) (2.8.2)\n",
      "Requirement already satisfied: cycler>=0.10 in c:\\programdata\\anaconda3\\lib\\site-packages (from matplotlib~=3.0->gradio==3.50) (0.11.0)\n",
      "Requirement already satisfied: pyparsing>=2.2.1 in c:\\programdata\\anaconda3\\lib\\site-packages (from matplotlib~=3.0->gradio==3.50) (3.0.4)\n",
      "Requirement already satisfied: kiwisolver>=1.0.1 in c:\\programdata\\anaconda3\\lib\\site-packages (from matplotlib~=3.0->gradio==3.50) (1.3.2)\n",
      "Requirement already satisfied: fonttools>=4.22.0 in c:\\programdata\\anaconda3\\lib\\site-packages (from matplotlib~=3.0->gradio==3.50) (4.25.0)\n",
      "Requirement already satisfied: pytz>=2020.1 in c:\\programdata\\anaconda3\\lib\\site-packages (from pandas<3.0,>=1.0->gradio==3.50) (2021.3)\n",
      "Requirement already satisfied: six>=1.5 in c:\\programdata\\anaconda3\\lib\\site-packages (from python-dateutil>=2.7->matplotlib~=3.0->gradio==3.50) (1.16.0)\n",
      "Requirement already satisfied: idna<4,>=2.5 in c:\\programdata\\anaconda3\\lib\\site-packages (from requests~=2.0->gradio==3.50) (3.3)\n",
      "Requirement already satisfied: charset-normalizer<4,>=2 in c:\\programdata\\anaconda3\\lib\\site-packages (from requests~=2.0->gradio==3.50) (2.0.4)\n",
      "Requirement already satisfied: certifi>=2017.4.17 in c:\\programdata\\anaconda3\\lib\\site-packages (from requests~=2.0->gradio==3.50) (2021.10.8)\n",
      "Requirement already satisfied: urllib3<3,>=1.21.1 in c:\\programdata\\anaconda3\\lib\\site-packages (from requests~=2.0->gradio==3.50) (1.26.9)\n",
      "Requirement already satisfied: colorama in c:\\programdata\\anaconda3\\lib\\site-packages (from tqdm>=4.42.1->huggingface-hub>=0.14.0->gradio==3.50) (0.4.4)\n",
      "Requirement already satisfied: h11>=0.8 in c:\\users\\gaurav pathak\\appdata\\roaming\\python\\python39\\site-packages (from uvicorn>=0.14.0->gradio==3.50) (0.14.0)\n",
      "Requirement already satisfied: click>=7.0 in c:\\programdata\\anaconda3\\lib\\site-packages (from uvicorn>=0.14.0->gradio==3.50) (8.0.4)\n",
      "Collecting fastapi-cli>=0.0.2\n",
      "  Downloading fastapi_cli-0.0.4-py3-none-any.whl (9.5 kB)\n",
      "Collecting starlette<0.38.0,>=0.37.2\n",
      "  Downloading starlette-0.37.2-py3-none-any.whl (71 kB)\n",
      "Collecting email_validator>=2.0.0\n",
      "  Downloading email_validator-2.2.0-py3-none-any.whl (33 kB)\n",
      "Requirement already satisfied: dnspython>=2.0.0 in c:\\users\\gaurav pathak\\appdata\\roaming\\python\\python39\\site-packages (from email_validator>=2.0.0->fastapi->gradio==3.50) (2.3.0)\n",
      "Collecting typer>=0.12.3\n",
      "  Downloading typer-0.12.3-py3-none-any.whl (47 kB)\n",
      "Collecting httpcore==1.*\n",
      "  Downloading httpcore-1.0.5-py3-none-any.whl (77 kB)\n",
      "Requirement already satisfied: sniffio in c:\\programdata\\anaconda3\\lib\\site-packages (from httpx->gradio==3.50) (1.2.0)\n",
      "Requirement already satisfied: anyio in c:\\programdata\\anaconda3\\lib\\site-packages (from httpx->gradio==3.50) (3.5.0)\n",
      "Requirement already satisfied: rich>=10.11.0 in c:\\users\\gaurav pathak\\appdata\\roaming\\python\\python39\\site-packages (from typer>=0.12.3->fastapi-cli>=0.0.2->fastapi->gradio==3.50) (12.6.0)\n",
      "Collecting shellingham>=1.3.0\n",
      "  Downloading shellingham-1.5.4-py2.py3-none-any.whl (9.8 kB)\n",
      "Requirement already satisfied: commonmark<0.10.0,>=0.9.0 in c:\\users\\gaurav pathak\\appdata\\roaming\\python\\python39\\site-packages (from rich>=10.11.0->typer>=0.12.3->fastapi-cli>=0.0.2->fastapi->gradio==3.50) (0.9.1)\n",
      "Requirement already satisfied: pygments<3.0.0,>=2.6.0 in c:\\programdata\\anaconda3\\lib\\site-packages (from rich>=10.11.0->typer>=0.12.3->fastapi-cli>=0.0.2->fastapi->gradio==3.50) (2.11.2)\n",
      "Collecting python-dotenv>=0.13\n",
      "  Downloading python_dotenv-1.0.1-py3-none-any.whl (19 kB)\n",
      "Collecting watchfiles>=0.13\n",
      "  Downloading watchfiles-0.22.0-cp39-none-win_amd64.whl (281 kB)\n",
      "Collecting httptools>=0.5.0\n",
      "  Downloading httptools-0.6.1-cp39-cp39-win_amd64.whl (60 kB)\n",
      "Installing collected packages: shellingham, websockets, watchfiles, uvicorn, typer, python-dotenv, httptools, httpcore, fsspec, starlette, python-multipart, huggingface-hub, httpx, fastapi-cli, email-validator, semantic-version, pydub, orjson, importlib-resources, gradio-client, ffmpy, fastapi, aiofiles, gradio\n",
      "Successfully installed aiofiles-23.2.1 email-validator-2.2.0 fastapi-0.111.1 fastapi-cli-0.0.4 ffmpy-0.4.0 fsspec-2024.6.1 gradio-3.50.0 gradio-client-0.6.1 httpcore-1.0.5 httptools-0.6.1 httpx-0.27.0 huggingface-hub-0.24.5 importlib-resources-6.4.0 orjson-3.10.6 pydub-0.25.1 python-dotenv-1.0.1 python-multipart-0.0.9 semantic-version-2.10.0 shellingham-1.5.4 starlette-0.37.2 typer-0.12.3 uvicorn-0.30.4 watchfiles-0.22.0 websockets-11.0.3\n"
     ]
    }
   ],
   "source": [
    "!pip install gradio==3.50"
   ]
  },
  {
   "cell_type": "code",
   "execution_count": 12,
   "id": "11533a44",
   "metadata": {},
   "outputs": [
    {
     "name": "stderr",
     "output_type": "stream",
     "text": [
      "C:\\Users\\Gaurav Pathak\\AppData\\Roaming\\Python\\Python39\\site-packages\\gradio\\blocks.py:1025: UserWarning: api_name predict already exists, using predict_1\n",
      "  warnings.warn(\n",
      "C:\\Users\\Gaurav Pathak\\AppData\\Roaming\\Python\\Python39\\site-packages\\gradio\\blocks.py:1025: UserWarning: api_name predict already exists, using predict_2\n",
      "  warnings.warn(\n",
      "C:\\Users\\Gaurav Pathak\\AppData\\Roaming\\Python\\Python39\\site-packages\\gradio\\blocks.py:1025: UserWarning: api_name predict already exists, using predict_3\n",
      "  warnings.warn(\n",
      "C:\\Users\\Gaurav Pathak\\AppData\\Roaming\\Python\\Python39\\site-packages\\gradio\\blocks.py:1025: UserWarning: api_name predict already exists, using predict_4\n",
      "  warnings.warn(\n"
     ]
    },
    {
     "name": "stdout",
     "output_type": "stream",
     "text": [
      "Running on local URL:  http://127.0.0.1:7865\n",
      "IMPORTANT: You are using gradio version 3.50.0, however version 4.29.0 is available, please upgrade.\n",
      "--------\n",
      "IMPORTANT: You are using gradio version 3.50.0, however version 4.29.0 is available, please upgrade.\n",
      "--------\n",
      "IMPORTANT: You are using gradio version 3.50.0, however version 4.29.0 is available, please upgrade.\n",
      "--------\n",
      "\n",
      "Could not create share link. Please check your internet connection or our status page: https://status.gradio.app.\n"
     ]
    },
    {
     "data": {
      "text/html": [
       "<div><iframe src=\"http://127.0.0.1:7865/\" width=\"100%\" height=\"500\" allow=\"autoplay; camera; microphone; clipboard-read; clipboard-write;\" frameborder=\"0\" allowfullscreen></iframe></div>"
      ],
      "text/plain": [
       "<IPython.core.display.HTML object>"
      ]
     },
     "metadata": {},
     "output_type": "display_data"
    },
    {
     "data": {
      "text/plain": []
     },
     "execution_count": 12,
     "metadata": {},
     "output_type": "execute_result"
    }
   ],
   "source": [
    "import gradio as gr\n",
    "import ast\n",
    "\n",
    "class Management_System:\n",
    "    def __init__(self):\n",
    "        self.student_records = {}\n",
    "    \n",
    "    def add_student(self, name, grades):\n",
    "        self.student_records[name] = grades\n",
    "        return self.student_records\n",
    "    \n",
    "    def update_grade(self, name, index, whole_updation, new_grade):\n",
    "        flag = False\n",
    "        if name in self.student_records:\n",
    "            if whole_updation == \"no\":\n",
    "                self.student_records[name][index] = new_grade\n",
    "                flag = True\n",
    "            elif whole_updation == \"yes\":\n",
    "                self.student_records[name] = new_grade\n",
    "                flag = True\n",
    "        if not flag:\n",
    "            return \"Record doesn't exist\"\n",
    "        return self.student_records\n",
    "                \n",
    "    def average_grade_of_a_student(self, name):\n",
    "        if name in self.student_records:\n",
    "            avg = sum(self.student_records[name]) / len(self.student_records[name])\n",
    "            return avg\n",
    "        else:\n",
    "            return f\"The name {name} is not found in records\"\n",
    "                \n",
    "    def highest_grade(self):\n",
    "        highest_grade = 0\n",
    "        name1 = \"\"\n",
    "        for name, grade in self.student_records.items():\n",
    "            percentage = round((sum(grade) / (100 * len(grade))) * 100,2)\n",
    "            if percentage > highest_grade:\n",
    "                highest_grade = percentage\n",
    "                name1 = name\n",
    "        return f\"Highest grade in the class achieved by {name1} with {highest_grade}%\"\n",
    "    \n",
    "    def check_student_records(self):\n",
    "        return self.student_records\n",
    "\n",
    "# Instantiate the management system\n",
    "ms = Management_System()\n",
    "\n",
    "def add_student(name, grades):\n",
    "    grades = ast.literal_eval(grades)\n",
    "    return ms.add_student(name, grades)\n",
    "\n",
    "def update_grade(name, index, whole_updation, new_grade):\n",
    "    if whole_updation == \"no\":\n",
    "        index = int(index)\n",
    "        new_grade = int(new_grade)\n",
    "        return ms.update_grade(name, index, whole_updation, new_grade)\n",
    "    elif whole_updation == \"yes\":\n",
    "        new_grade = ast.literal_eval(new_grade)\n",
    "        return ms.update_grade(name, None, whole_updation, new_grade)\n",
    "\n",
    "def average_grade_of_a_student(name):\n",
    "    return ms.average_grade_of_a_student(name)\n",
    "\n",
    "def highest_grade():\n",
    "    return ms.highest_grade()\n",
    "\n",
    "def check_student_records():\n",
    "    return ms.check_student_records()\n",
    "\n",
    "add_student_interface = gr.Interface(\n",
    "    fn=add_student, \n",
    "    inputs=[gr.Textbox(label=\"Name\"), gr.Textbox(label=\"Grades (list format, e.g., [85, 90, 89])\")], \n",
    "    outputs=\"json\",\n",
    "    title=\"Add Student\"\n",
    ")\n",
    "\n",
    "update_grade_interface = gr.Interface(\n",
    "    fn=update_grade, \n",
    "    inputs=[gr.Textbox(label=\"Name\"), \n",
    "            gr.Textbox(label=\"Index (for single grade update)\"), \n",
    "            gr.Radio(label=\"Update Entire Grades?\", choices=[\"yes\", \"no\"]), \n",
    "            gr.Textbox(label=\"New Grade(s) (list format, e.g., [85, 90, 89])\")], \n",
    "    outputs=\"json\",\n",
    "    title=\"Update Grade\"\n",
    ")\n",
    "\n",
    "average_grade_interface = gr.Interface(\n",
    "    fn=average_grade_of_a_student, \n",
    "    inputs=[gr.Textbox(label=\"Name\")], \n",
    "    outputs=\"text\",\n",
    "    title=\"Average Grade of a Student\"\n",
    ")\n",
    "\n",
    "highest_grade_interface = gr.Interface(\n",
    "    fn=highest_grade, \n",
    "    inputs=[], \n",
    "    outputs=\"text\",\n",
    "    title=\"Highest Grade\"\n",
    ")\n",
    "\n",
    "check_student_records_interface = gr.Interface(\n",
    "    fn=check_student_records, \n",
    "    inputs=[], \n",
    "    outputs=\"json\",\n",
    "    title=\"Check Student Records\"\n",
    ")\n",
    "\n",
    "app = gr.TabbedInterface(\n",
    "    interface_list=[add_student_interface, update_grade_interface, average_grade_interface, highest_grade_interface, check_student_records_interface],\n",
    "    tab_names=[\"Add Student\", \"Update Grade\", \"Average Grade\", \"Highest Grade\", \"Check Student Records\"]\n",
    ")\n",
    "\n",
    "app.launch(share=True)\n"
   ]
  },
  {
   "cell_type": "code",
   "execution_count": null,
   "id": "27203333",
   "metadata": {},
   "outputs": [],
   "source": []
  }
 ],
 "metadata": {
  "kernelspec": {
   "display_name": "Python 3 (ipykernel)",
   "language": "python",
   "name": "python3"
  },
  "language_info": {
   "codemirror_mode": {
    "name": "ipython",
    "version": 3
   },
   "file_extension": ".py",
   "mimetype": "text/x-python",
   "name": "python",
   "nbconvert_exporter": "python",
   "pygments_lexer": "ipython3",
   "version": "3.9.12"
  }
 },
 "nbformat": 4,
 "nbformat_minor": 5
}

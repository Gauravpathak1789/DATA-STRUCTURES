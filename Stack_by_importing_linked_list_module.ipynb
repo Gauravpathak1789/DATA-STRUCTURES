{
 "cells": [
  {
   "cell_type": "code",
   "execution_count": 1,
   "id": "1ef1c2cf",
   "metadata": {},
   "outputs": [],
   "source": [
    "from singly_linked_list import *"
   ]
  },
  {
   "cell_type": "code",
   "execution_count": 9,
   "id": "917ef81e",
   "metadata": {},
   "outputs": [],
   "source": [
    "class Stack:\n",
    "    \n",
    "    def __init__(self,maxsize=None):\n",
    "        self.maxsize=maxsize\n",
    "        self.s_list=SLL()\n",
    "        self.item_count=0\n",
    "    \n",
    "    def Is_empty(self):\n",
    "        return self.s_list.isempty()\n",
    "    \n",
    "    def Is_full(self):\n",
    "        return self.maxsize==self.item_count\n",
    "\n",
    "    def Push(self,data):\n",
    "        if self.item_count<=self.maxsize:\n",
    "            self.s_list.insert_at_start(data)\n",
    "            self.item_count+=1\n",
    "        else:\n",
    "            raise IndexError(\"stack overflow\")\n",
    "            \n",
    "    def POP(self):\n",
    "        if not self.Is_empty():\n",
    "            temp=self.s_list.start.item\n",
    "            self.s_list.delete_first()\n",
    "            self.item_count-=1\n",
    "            return temp\n",
    "        else:\n",
    "            raise IndexError(\"stack underflow\")\n",
    "    \n",
    "    def PEEK(self):\n",
    "        if not self.Is_empty():\n",
    "            return self.s_list.start.item\n",
    "        else:\n",
    "            raise IndexError(\"stack is empty\")\n",
    "    \n",
    "    def size(self):\n",
    "        return self.item_count\n",
    "    \n",
    "    def PRINT_stack(self): #optional only for view\n",
    "        self.s_list.print_list()\n",
    "            \n",
    "            \n",
    "        "
   ]
  },
  {
   "cell_type": "code",
   "execution_count": 22,
   "id": "ce695fe5",
   "metadata": {},
   "outputs": [],
   "source": [
    "s1=Stack(5)"
   ]
  },
  {
   "cell_type": "code",
   "execution_count": 23,
   "id": "2855b0a1",
   "metadata": {},
   "outputs": [
    {
     "data": {
      "text/plain": [
       "True"
      ]
     },
     "execution_count": 23,
     "metadata": {},
     "output_type": "execute_result"
    }
   ],
   "source": [
    "s1.Is_empty()"
   ]
  },
  {
   "cell_type": "code",
   "execution_count": 24,
   "id": "64ab46d3",
   "metadata": {},
   "outputs": [],
   "source": [
    "s1.Push(10)\n",
    "s1.Push(20)\n",
    "s1.Push(30)\n",
    "s1.Push(40)\n",
    "s1.Push(50)"
   ]
  },
  {
   "cell_type": "code",
   "execution_count": 25,
   "id": "53b9eb51",
   "metadata": {},
   "outputs": [
    {
     "name": "stdout",
     "output_type": "stream",
     "text": [
      "50 40 30 20 10 "
     ]
    }
   ],
   "source": [
    "s1.PRINT_stack()"
   ]
  },
  {
   "cell_type": "code",
   "execution_count": 26,
   "id": "b9d92208",
   "metadata": {},
   "outputs": [
    {
     "data": {
      "text/plain": [
       "True"
      ]
     },
     "execution_count": 26,
     "metadata": {},
     "output_type": "execute_result"
    }
   ],
   "source": [
    "s1.Is_full()"
   ]
  },
  {
   "cell_type": "code",
   "execution_count": 27,
   "id": "e82f56ad",
   "metadata": {},
   "outputs": [
    {
     "data": {
      "text/plain": [
       "50"
      ]
     },
     "execution_count": 27,
     "metadata": {},
     "output_type": "execute_result"
    }
   ],
   "source": [
    "s1.POP()"
   ]
  },
  {
   "cell_type": "code",
   "execution_count": 28,
   "id": "974e18f4",
   "metadata": {},
   "outputs": [
    {
     "name": "stdout",
     "output_type": "stream",
     "text": [
      "40 30 20 10 "
     ]
    }
   ],
   "source": [
    "s1.PRINT_stack()"
   ]
  },
  {
   "cell_type": "code",
   "execution_count": 29,
   "id": "065c0e27",
   "metadata": {},
   "outputs": [
    {
     "data": {
      "text/plain": [
       "40"
      ]
     },
     "execution_count": 29,
     "metadata": {},
     "output_type": "execute_result"
    }
   ],
   "source": [
    "s1.PEEK()"
   ]
  },
  {
   "cell_type": "code",
   "execution_count": 30,
   "id": "e81d78ea",
   "metadata": {},
   "outputs": [
    {
     "data": {
      "text/plain": [
       "False"
      ]
     },
     "execution_count": 30,
     "metadata": {},
     "output_type": "execute_result"
    }
   ],
   "source": [
    "s1.Is_empty()"
   ]
  },
  {
   "cell_type": "code",
   "execution_count": 31,
   "id": "134dad65",
   "metadata": {},
   "outputs": [
    {
     "data": {
      "text/plain": [
       "4"
      ]
     },
     "execution_count": 31,
     "metadata": {},
     "output_type": "execute_result"
    }
   ],
   "source": [
    "s1.size()"
   ]
  },
  {
   "cell_type": "code",
   "execution_count": null,
   "id": "bdf061ef",
   "metadata": {},
   "outputs": [],
   "source": []
  }
 ],
 "metadata": {
  "kernelspec": {
   "display_name": "Python 3 (ipykernel)",
   "language": "python",
   "name": "python3"
  },
  "language_info": {
   "codemirror_mode": {
    "name": "ipython",
    "version": 3
   },
   "file_extension": ".py",
   "mimetype": "text/x-python",
   "name": "python",
   "nbconvert_exporter": "python",
   "pygments_lexer": "ipython3",
   "version": "3.9.12"
  }
 },
 "nbformat": 4,
 "nbformat_minor": 5
}

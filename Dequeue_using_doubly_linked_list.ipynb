{
 "cells": [
  {
   "cell_type": "code",
   "execution_count": 167,
   "id": "6c54ded8",
   "metadata": {},
   "outputs": [],
   "source": [
    "class Node:\n",
    "    \n",
    "    def __init__(self,item=None,prev=None,next=None):\n",
    "        self.item=item\n",
    "        self.prev=prev\n",
    "        self.next=next\n",
    "        \n",
    "class Dequeue:\n",
    "    \n",
    "    def __init__(self,maxsize=None):\n",
    "        self.maxsize=maxsize\n",
    "        self.front=None\n",
    "        self.rear=None\n",
    "        self.item_count=0\n",
    "    \n",
    "    def is_empty(self):\n",
    "        return self.item_count==0\n",
    "    \n",
    "    def insert_front(self,data):\n",
    "        if self.item_count<self.maxsize:\n",
    "            if not self.is_empty():\n",
    "                new_node=Node(data,self.rear.prev.prev,self.rear)\n",
    "                self.rear.prev.next=new_node\n",
    "                self.rear.prev=new_node\n",
    "                self.front=new_node\n",
    "            else:\n",
    "                new_node=Node(data)\n",
    "                new_node.prev=new_node\n",
    "                new_node.next=new_node\n",
    "                self.rear=new_node\n",
    "                self.front=new_node\n",
    "            self.item_count+=1\n",
    "        else:\n",
    "            raise IndexError(\"Queue is full\")\n",
    "            \n",
    "    def insert_rear(self,data):\n",
    "        if self.item_count<self.maxsize:\n",
    "            if not self.is_empty():\n",
    "                new_node=Node(data,self.rear.prev,self.rear)\n",
    "                self.rear.prev.next=new_node\n",
    "                self.rear.prev=new_node\n",
    "                self.rear=new_node\n",
    "            else:\n",
    "                new_node=Node(data)\n",
    "                new_node.prev=new_node\n",
    "                new_node.next=new_node\n",
    "                self.rear=new_node\n",
    "                self.front=new_node\n",
    "            self.item_count+=1\n",
    "        else:\n",
    "            raise IndexError(\"Queue is full\")\n",
    "            \n",
    "    def delete_front(self):\n",
    "        if not self.is_empty():\n",
    "            if self.rear==self.front:\n",
    "                self.rear=None\n",
    "                self.front=None\n",
    "            else:\n",
    "                self.rear.prev.prev.next=self.rear\n",
    "                self.rear.prev=self.rear.prev.prev\n",
    "                self.front=self.rear.prev\n",
    "            self.item_count-=1\n",
    "        else:\n",
    "            raise IndexError(\"Queue is empty\")\n",
    "    \n",
    "    def delete_rear(self):\n",
    "        if not self.is_empty():\n",
    "            if self.rear==self.front:\n",
    "                self.rear=None\n",
    "                self.front=None\n",
    "            else:\n",
    "                self.front.next=self.rear.next\n",
    "                self.rear.next.prev=self.front\n",
    "                self.rear=self.front.next\n",
    "            self.item_count-=1\n",
    "        else:\n",
    "            raise IndexError(\"Queue is empty\")\n",
    "            \n",
    "    def get_front(self):\n",
    "        if not self.is_empty():\n",
    "            return self.front.item\n",
    "        else:\n",
    "            raise IndexError(\"Queue is empty\")\n",
    "    \n",
    "    def get_rear(self):\n",
    "        if not self.is_empty():\n",
    "            return self.rear.item\n",
    "        else:\n",
    "            raise IndexError(\"Queue is empty\")\n",
    "        \n",
    "        \n",
    "    def is_full(self):\n",
    "        return  self.item_count==self.maxsize\n",
    "    \n",
    "    def size(self):\n",
    "        return self.item_count\n",
    "        "
   ]
  },
  {
   "cell_type": "code",
   "execution_count": 168,
   "id": "efc077ae",
   "metadata": {},
   "outputs": [],
   "source": [
    "d1=Dequeue(5)"
   ]
  },
  {
   "cell_type": "code",
   "execution_count": 169,
   "id": "2c2a7ef4",
   "metadata": {},
   "outputs": [
    {
     "data": {
      "text/plain": [
       "True"
      ]
     },
     "execution_count": 169,
     "metadata": {},
     "output_type": "execute_result"
    }
   ],
   "source": [
    "d1.is_empty()"
   ]
  },
  {
   "cell_type": "code",
   "execution_count": 170,
   "id": "e0cb7beb",
   "metadata": {},
   "outputs": [
    {
     "data": {
      "text/plain": [
       "False"
      ]
     },
     "execution_count": 170,
     "metadata": {},
     "output_type": "execute_result"
    }
   ],
   "source": [
    "d1.is_full()"
   ]
  },
  {
   "cell_type": "code",
   "execution_count": 171,
   "id": "2b16b2a8",
   "metadata": {},
   "outputs": [],
   "source": [
    "d1.insert_rear(10)\n",
    "d1.insert_rear(20)\n",
    "d1.insert_rear(30)\n",
    "d1.insert_rear(40)\n"
   ]
  },
  {
   "cell_type": "code",
   "execution_count": 172,
   "id": "3b0356fc",
   "metadata": {},
   "outputs": [
    {
     "data": {
      "text/plain": [
       "10"
      ]
     },
     "execution_count": 172,
     "metadata": {},
     "output_type": "execute_result"
    }
   ],
   "source": [
    "d1.get_front()"
   ]
  },
  {
   "cell_type": "code",
   "execution_count": 173,
   "id": "3b198ae7",
   "metadata": {},
   "outputs": [
    {
     "data": {
      "text/plain": [
       "40"
      ]
     },
     "execution_count": 173,
     "metadata": {},
     "output_type": "execute_result"
    }
   ],
   "source": [
    "d1.get_rear()"
   ]
  },
  {
   "cell_type": "code",
   "execution_count": 174,
   "id": "3a6d16ed",
   "metadata": {},
   "outputs": [],
   "source": [
    "d1.delete_front()"
   ]
  },
  {
   "cell_type": "code",
   "execution_count": 175,
   "id": "d8079c41",
   "metadata": {},
   "outputs": [
    {
     "data": {
      "text/plain": [
       "20"
      ]
     },
     "execution_count": 175,
     "metadata": {},
     "output_type": "execute_result"
    }
   ],
   "source": [
    "d1.get_front()"
   ]
  },
  {
   "cell_type": "code",
   "execution_count": 176,
   "id": "06bd64a0",
   "metadata": {},
   "outputs": [],
   "source": [
    "d1.delete_rear()"
   ]
  },
  {
   "cell_type": "code",
   "execution_count": 177,
   "id": "58aa3e57",
   "metadata": {},
   "outputs": [
    {
     "data": {
      "text/plain": [
       "30"
      ]
     },
     "execution_count": 177,
     "metadata": {},
     "output_type": "execute_result"
    }
   ],
   "source": [
    "d1.get_rear()"
   ]
  },
  {
   "cell_type": "code",
   "execution_count": 178,
   "id": "2f163dd5",
   "metadata": {},
   "outputs": [
    {
     "data": {
      "text/plain": [
       "False"
      ]
     },
     "execution_count": 178,
     "metadata": {},
     "output_type": "execute_result"
    }
   ],
   "source": [
    "d1.is_empty()"
   ]
  },
  {
   "cell_type": "code",
   "execution_count": 179,
   "id": "418b77a7",
   "metadata": {},
   "outputs": [],
   "source": [
    "d1.insert_front(22)"
   ]
  },
  {
   "cell_type": "code",
   "execution_count": 180,
   "id": "a87f22c0",
   "metadata": {},
   "outputs": [
    {
     "data": {
      "text/plain": [
       "22"
      ]
     },
     "execution_count": 180,
     "metadata": {},
     "output_type": "execute_result"
    }
   ],
   "source": [
    "d1.get_front()"
   ]
  },
  {
   "cell_type": "code",
   "execution_count": 181,
   "id": "a6d770d9",
   "metadata": {},
   "outputs": [
    {
     "data": {
      "text/plain": [
       "30"
      ]
     },
     "execution_count": 181,
     "metadata": {},
     "output_type": "execute_result"
    }
   ],
   "source": [
    "d1.get_rear()"
   ]
  },
  {
   "cell_type": "code",
   "execution_count": 182,
   "id": "2c3596b6",
   "metadata": {},
   "outputs": [],
   "source": [
    "d1.delete_rear()"
   ]
  },
  {
   "cell_type": "code",
   "execution_count": 183,
   "id": "e3c6df69",
   "metadata": {},
   "outputs": [
    {
     "data": {
      "text/plain": [
       "20"
      ]
     },
     "execution_count": 183,
     "metadata": {},
     "output_type": "execute_result"
    }
   ],
   "source": [
    "d1.get_rear()"
   ]
  },
  {
   "cell_type": "code",
   "execution_count": null,
   "id": "578d0ac8",
   "metadata": {},
   "outputs": [],
   "source": []
  }
 ],
 "metadata": {
  "kernelspec": {
   "display_name": "Python 3 (ipykernel)",
   "language": "python",
   "name": "python3"
  },
  "language_info": {
   "codemirror_mode": {
    "name": "ipython",
    "version": 3
   },
   "file_extension": ".py",
   "mimetype": "text/x-python",
   "name": "python",
   "nbconvert_exporter": "python",
   "pygments_lexer": "ipython3",
   "version": "3.9.12"
  }
 },
 "nbformat": 4,
 "nbformat_minor": 5
}

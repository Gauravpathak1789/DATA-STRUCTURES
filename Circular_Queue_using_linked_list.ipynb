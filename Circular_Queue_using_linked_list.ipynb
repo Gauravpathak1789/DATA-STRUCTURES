{
 "cells": [
  {
   "cell_type": "code",
   "execution_count": 11,
   "id": "1416ad7f",
   "metadata": {},
   "outputs": [],
   "source": [
    "class Node:\n",
    "    \n",
    "    def __init__(self,item=None,next=next):\n",
    "        self.item=item\n",
    "        self.next=next\n",
    "        \n",
    "class CircularQueue:\n",
    "    \n",
    "    def __init__(self,list_size):\n",
    "        self.list_size=list_size\n",
    "        self.item_count=0\n",
    "        self.front=None\n",
    "        self.rear=None\n",
    "    \n",
    "    def is_empty(self):\n",
    "        return self.front==None\n",
    "    \n",
    "    def Enqueue(self,data):\n",
    "        n=Node(data)\n",
    "        if self.item_count>=self.list_size:\n",
    "            raise AttributeError(\"Queue is full\")\n",
    "        elif self.front==None:\n",
    "            self.front=self.rear=n\n",
    "            self.rear.next=self.front\n",
    "        else:\n",
    "            \n",
    "            self.rear.next=n\n",
    "            self.rear=n\n",
    "            self.rear.next=self.front\n",
    "        self.item_count+=1\n",
    "    \n",
    "    def Dequeue(self):\n",
    "        if not self.is_empty():\n",
    "            temp=self.front.item\n",
    "            if self.front==self.rear:\n",
    "                self.front=None\n",
    "                self.rear=None\n",
    "                self.item_count-=1\n",
    "                return temp\n",
    "            else:\n",
    "                self.front=self.front.next\n",
    "                self.rear.next=self.front\n",
    "                self.item_count-=1\n",
    "                return temp\n",
    "        else:\n",
    "            raise IndexError(\"queue is empty\") \n",
    "    \n",
    "    def is_full(self):\n",
    "        return self.item_count==self.list_size\n",
    "    \n",
    "    def display(self):\n",
    "        if not self.is_empty():\n",
    "            print(self.front.item,end=\" \")\n",
    "            temp=self.front.next\n",
    "            while temp is not self.front:\n",
    "                print(temp.item,end=\" \")\n",
    "                temp=temp.next\n",
    "        else:\n",
    "            print(\"empty\")\n",
    "    \n",
    "            \n",
    "        \n",
    "            \n",
    "    "
   ]
  },
  {
   "cell_type": "code",
   "execution_count": 12,
   "id": "a4477cc1",
   "metadata": {},
   "outputs": [],
   "source": [
    "q1=CircularQueue(5)"
   ]
  },
  {
   "cell_type": "code",
   "execution_count": 13,
   "id": "f1ff9875",
   "metadata": {},
   "outputs": [],
   "source": [
    "q1.Enqueue(10)\n",
    "q1.Enqueue(20)\n",
    "q1.Enqueue(30)\n",
    "q1.Enqueue(40)\n",
    "q1.Enqueue(50)"
   ]
  },
  {
   "cell_type": "code",
   "execution_count": 14,
   "id": "05cf98a1",
   "metadata": {},
   "outputs": [
    {
     "name": "stdout",
     "output_type": "stream",
     "text": [
      "10 20 30 40 50 "
     ]
    }
   ],
   "source": [
    "q1.display()"
   ]
  },
  {
   "cell_type": "code",
   "execution_count": 15,
   "id": "05ce3bed",
   "metadata": {},
   "outputs": [
    {
     "data": {
      "text/plain": [
       "10"
      ]
     },
     "execution_count": 15,
     "metadata": {},
     "output_type": "execute_result"
    }
   ],
   "source": [
    "q1.Dequeue()"
   ]
  },
  {
   "cell_type": "code",
   "execution_count": 16,
   "id": "996a1a75",
   "metadata": {},
   "outputs": [
    {
     "name": "stdout",
     "output_type": "stream",
     "text": [
      "20 30 40 50 "
     ]
    }
   ],
   "source": [
    "q1.display()"
   ]
  },
  {
   "cell_type": "code",
   "execution_count": 17,
   "id": "ef396a4e",
   "metadata": {},
   "outputs": [],
   "source": [
    "q1.Enqueue(22)"
   ]
  },
  {
   "cell_type": "code",
   "execution_count": 18,
   "id": "84d5b864",
   "metadata": {},
   "outputs": [
    {
     "name": "stdout",
     "output_type": "stream",
     "text": [
      "20 30 40 50 22 "
     ]
    }
   ],
   "source": [
    "q1.display()"
   ]
  },
  {
   "cell_type": "code",
   "execution_count": null,
   "id": "9534a3f4",
   "metadata": {},
   "outputs": [],
   "source": []
  }
 ],
 "metadata": {
  "finalized": {
   "timestamp": 1721574560169,
   "trusted": true
  },
  "kernelspec": {
   "display_name": "Python 3 (ipykernel)",
   "language": "python",
   "name": "python3"
  },
  "language_info": {
   "codemirror_mode": {
    "name": "ipython",
    "version": 3
   },
   "file_extension": ".py",
   "mimetype": "text/x-python",
   "name": "python",
   "nbconvert_exporter": "python",
   "pygments_lexer": "ipython3",
   "version": "3.9.12"
  }
 },
 "nbformat": 4,
 "nbformat_minor": 5
}

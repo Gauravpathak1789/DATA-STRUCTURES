{
 "cells": [
  {
   "cell_type": "code",
   "execution_count": 6,
   "id": "6a85d9b6",
   "metadata": {},
   "outputs": [],
   "source": [
    "class Node:\n",
    "    \n",
    "    def __init__(self,item=None,Priority=None,next=None):\n",
    "        self.item=item\n",
    "        self.Priority=Priority\n",
    "        self.next=next\n",
    "        \n",
    "class PriorityQueue:\n",
    "    \n",
    "    def __init__(self):\n",
    "        self.start=None\n",
    "        self.item_count=0\n",
    "        \n",
    "    def push(self,data,Priority):\n",
    "        n=Node(data,Priority)\n",
    "        if not self.start or Priority<self.start.Priority:\n",
    "            n.next=self.start\n",
    "            self.start=n\n",
    "        else:\n",
    "            temp=self.start\n",
    "            while temp.next and temp.next.Priority<=Priority:\n",
    "                temp=temp.next\n",
    "            n.next=temp.next\n",
    "            temp.next=n\n",
    "        self.item_count+=1\n",
    "            \n",
    "    def is_empty(self):\n",
    "        return self.start==None\n",
    "    \n",
    "    def pop(self):\n",
    "        if self.is_empty():\n",
    "            raise IndexError(\"Queue is empty\")\n",
    "        else:\n",
    "            data=self.start.item\n",
    "            self.start=self.start.next\n",
    "            self.item_count-=1\n",
    "            return data\n",
    "    def size(self):\n",
    "        return self.item_count\n",
    "    "
   ]
  },
  {
   "cell_type": "code",
   "execution_count": 7,
   "id": "92963199",
   "metadata": {},
   "outputs": [],
   "source": [
    "p1=PriorityQueue()"
   ]
  },
  {
   "cell_type": "code",
   "execution_count": 8,
   "id": "04e0710d",
   "metadata": {},
   "outputs": [],
   "source": [
    "p1.push(\"Amit\",4)\n",
    "p1.push(\"Arjun\",7)\n",
    "p1.push(\"Ashima\",2)\n",
    "p1.push(\"Agrah\",5)\n",
    "p1.push(\"Annant\",8)\n",
    "p1.push(\"Ambika\",1)"
   ]
  },
  {
   "cell_type": "code",
   "execution_count": 9,
   "id": "db4938af",
   "metadata": {},
   "outputs": [
    {
     "name": "stdout",
     "output_type": "stream",
     "text": [
      "Ambika\n",
      "Ashima\n",
      "Amit\n",
      "Agrah\n",
      "Arjun\n",
      "Annant\n"
     ]
    }
   ],
   "source": [
    "while not p1.is_empty():\n",
    "    print(p1.pop())"
   ]
  },
  {
   "cell_type": "code",
   "execution_count": 10,
   "id": "8644b5de",
   "metadata": {},
   "outputs": [
    {
     "data": {
      "text/plain": [
       "True"
      ]
     },
     "execution_count": 10,
     "metadata": {},
     "output_type": "execute_result"
    }
   ],
   "source": [
    "p1.is_empty()"
   ]
  },
  {
   "cell_type": "code",
   "execution_count": null,
   "id": "db46f95c",
   "metadata": {},
   "outputs": [],
   "source": []
  }
 ],
 "metadata": {
  "kernelspec": {
   "display_name": "Python 3 (ipykernel)",
   "language": "python",
   "name": "python3"
  },
  "language_info": {
   "codemirror_mode": {
    "name": "ipython",
    "version": 3
   },
   "file_extension": ".py",
   "mimetype": "text/x-python",
   "name": "python",
   "nbconvert_exporter": "python",
   "pygments_lexer": "ipython3",
   "version": "3.9.12"
  }
 },
 "nbformat": 4,
 "nbformat_minor": 5
}

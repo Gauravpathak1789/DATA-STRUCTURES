{
 "cells": [
  {
   "cell_type": "raw",
   "id": "4bf186ca",
   "metadata": {},
   "source": [
    "In Python there is an in-built module and several classes are defined in \n",
    "this modula.\n",
    "\n",
    "But Array is not in bulit-in data structure and therefore need to imported.\n",
    "\n",
    "Arrays are squence types and behave very much like list,but in list we can \n",
    "keep heterogeneous values ,while in arrays we can keep homogeneous values\n",
    "only."
   ]
  },
  {
   "cell_type": "raw",
   "id": "b81f7832",
   "metadata": {},
   "source": [
    "Array is a collection of same type elements.\n",
    "Array have fixed size.\n",
    "Array is iterable but not mutable"
   ]
  },
  {
   "cell_type": "raw",
   "id": "d105ab4e",
   "metadata": {},
   "source": [
    "List is a class.\n",
    "List is mutable and iterable.\n",
    "List can grow(dynamic array).\n",
    "List can contain different type elements."
   ]
  },
  {
   "cell_type": "code",
   "execution_count": 1,
   "id": "dfec7011",
   "metadata": {},
   "outputs": [],
   "source": [
    "#importing array -\n",
    "from array import *\n",
    "a1=array('i',[1,2,3])"
   ]
  },
  {
   "cell_type": "code",
   "execution_count": 2,
   "id": "1cc81b6f",
   "metadata": {},
   "outputs": [
    {
     "name": "stdout",
     "output_type": "stream",
     "text": [
      "array('i', [1, 2, 3])\n"
     ]
    }
   ],
   "source": [
    "print(a1)"
   ]
  },
  {
   "cell_type": "code",
   "execution_count": 3,
   "id": "821ccb4c",
   "metadata": {},
   "outputs": [
    {
     "data": {
      "text/plain": [
       "array.array"
      ]
     },
     "execution_count": 3,
     "metadata": {},
     "output_type": "execute_result"
    }
   ],
   "source": [
    "type(a1)"
   ]
  },
  {
   "cell_type": "markdown",
   "id": "1446f3e0",
   "metadata": {},
   "source": [
    "# Questions--"
   ]
  },
  {
   "cell_type": "raw",
   "id": "8cb19a40",
   "metadata": {},
   "source": [
    "1.Give an array with some integer type values?write the python script to sort \n",
    "the array values."
   ]
  },
  {
   "cell_type": "code",
   "execution_count": 6,
   "id": "fa37d13d",
   "metadata": {},
   "outputs": [
    {
     "name": "stdout",
     "output_type": "stream",
     "text": [
      "unsorted array-- array('i', [23, 78, 2, 9, 4])\n",
      "sorted array-- [2, 4, 9, 23, 78]\n"
     ]
    }
   ],
   "source": [
    "#1.Ans-\n",
    "arr=array('i',[23,78,2,9,4])\n",
    "print(\"unsorted array--\",arr)\n",
    "print(\"sorted array--\",sorted(arr))"
   ]
  },
  {
   "cell_type": "raw",
   "id": "edb453b3",
   "metadata": {},
   "source": [
    "2.Give a list of heterogeneous elements.write a python script to remove all the \n",
    "non int values from the list."
   ]
  },
  {
   "cell_type": "code",
   "execution_count": 15,
   "id": "9559ec3a",
   "metadata": {},
   "outputs": [
    {
     "name": "stdout",
     "output_type": "stream",
     "text": [
      "[90, 56, 9, 90.89]\n"
     ]
    }
   ],
   "source": [
    "#2.Ans-\n",
    "a=[\"yes\",90,56,\"to\",9,'hii',90.89,]\n",
    "for i in a:\n",
    "    if type(i)!=int:\n",
    "        a.remove(i)\n",
    "print(a)"
   ]
  },
  {
   "cell_type": "raw",
   "id": "7a18e828",
   "metadata": {},
   "source": [
    "3.Wrtie a python script to caculate the average of element of a list."
   ]
  },
  {
   "cell_type": "code",
   "execution_count": 16,
   "id": "d92a131f",
   "metadata": {},
   "outputs": [
    {
     "name": "stdout",
     "output_type": "stream",
     "text": [
      "average--:  50.0\n"
     ]
    }
   ],
   "source": [
    "#3.ANS-\n",
    "a1=[45,55,36,64]\n",
    "total_sum=0\n",
    "for i in a1:\n",
    "    total_sum+=i\n",
    "print(\"average--: \",total_sum/len(a1))"
   ]
  },
  {
   "cell_type": "raw",
   "id": "f5c72146",
   "metadata": {},
   "source": [
    "4.WritE a python script to create a list of first N prime numbers."
   ]
  },
  {
   "cell_type": "code",
   "execution_count": 18,
   "id": "3cfe1100",
   "metadata": {},
   "outputs": [
    {
     "name": "stdout",
     "output_type": "stream",
     "text": [
      "enter the number: 8\n",
      "first N prime number :  [2, 3, 5, 7]\n"
     ]
    }
   ],
   "source": [
    "#4.Ans-\n",
    "n=int(input(\"enter the number: \"))\n",
    "prime_num=[2,3]\n",
    "for i in range(3,n):\n",
    "    if i%2!=0 and i%3!=0:\n",
    "        prime_num.append(i)\n",
    "print(\"first N prime number : \",prime_num)\n"
   ]
  },
  {
   "cell_type": "raw",
   "id": "e506d4f9",
   "metadata": {},
   "source": [
    "5.Write a python script to create a list of first N terms of a fibonacci \n",
    "series."
   ]
  },
  {
   "cell_type": "code",
   "execution_count": 20,
   "id": "b70a0858",
   "metadata": {},
   "outputs": [
    {
     "name": "stdout",
     "output_type": "stream",
     "text": [
      "enter the number: 9\n",
      "[0, 1, 1, 2, 3, 5, 8, 13, 21, 34, 55]\n"
     ]
    }
   ],
   "source": [
    "#Ans-\n",
    "n=int(input(\"enter the number: \"))\n",
    "fibo_series_list=[0,1]\n",
    "a,b=0,1\n",
    "for i in range(n):\n",
    "    c=a+b\n",
    "    fibo_series_list.append(c)\n",
    "    a=b\n",
    "    b=c\n",
    "print(fibo_series_list)"
   ]
  },
  {
   "cell_type": "code",
   "execution_count": null,
   "id": "864ef80b",
   "metadata": {},
   "outputs": [],
   "source": []
  }
 ],
 "metadata": {
  "kernelspec": {
   "display_name": "Python 3 (ipykernel)",
   "language": "python",
   "name": "python3"
  },
  "language_info": {
   "codemirror_mode": {
    "name": "ipython",
    "version": 3
   },
   "file_extension": ".py",
   "mimetype": "text/x-python",
   "name": "python",
   "nbconvert_exporter": "python",
   "pygments_lexer": "ipython3",
   "version": "3.9.12"
  }
 },
 "nbformat": 4,
 "nbformat_minor": 5
}

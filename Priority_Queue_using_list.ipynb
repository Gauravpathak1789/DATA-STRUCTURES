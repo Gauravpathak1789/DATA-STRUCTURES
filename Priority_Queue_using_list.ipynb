{
 "cells": [
  {
   "cell_type": "code",
   "execution_count": 1,
   "id": "0b2f6a49",
   "metadata": {},
   "outputs": [],
   "source": [
    "class Priority_Queue:\n",
    "    \n",
    "    def __init__(self):\n",
    "        self.mylist=[]\n",
    "        \n",
    "    def is_empty(self):\n",
    "        return len(self.mylist)==0\n",
    "    \n",
    "    def push(self,data,priority):\n",
    "        index=0\n",
    "        while index<len(self.mylist) and self.mylist[index][1]<=priority:\n",
    "            index+=1\n",
    "        self.mylist.insert(index,(data,priority))\n",
    "    \n",
    "    def pop(self):\n",
    "        if self.is_empty():\n",
    "            raise IndexError(\"Priority Queue is Empty\")\n",
    "        return self.mylist.pop(0)[0]\n",
    "    \n",
    "    def size(self):\n",
    "        return len(self.mylist)\n",
    "        "
   ]
  },
  {
   "cell_type": "code",
   "execution_count": 2,
   "id": "bda13f2b",
   "metadata": {},
   "outputs": [],
   "source": [
    "p1=Priority_Queue()"
   ]
  },
  {
   "cell_type": "code",
   "execution_count": 3,
   "id": "4525d0db",
   "metadata": {},
   "outputs": [],
   "source": [
    "p1.push(\"Amit\",4)\n",
    "p1.push(\"Arjun\",7)\n",
    "p1.push(\"Ashima\",2)\n",
    "p1.push(\"Agrah\",5)\n",
    "p1.push(\"Annant\",8)\n",
    "p1.push(\"Ambika\",1)"
   ]
  },
  {
   "cell_type": "code",
   "execution_count": 4,
   "id": "06a1a223",
   "metadata": {},
   "outputs": [
    {
     "name": "stdout",
     "output_type": "stream",
     "text": [
      "Ambika\n",
      "Ashima\n",
      "Amit\n",
      "Agrah\n",
      "Arjun\n",
      "Annant\n"
     ]
    }
   ],
   "source": [
    "while not p1.is_empty():\n",
    "    print(p1.pop())"
   ]
  },
  {
   "cell_type": "code",
   "execution_count": 5,
   "id": "3c0905e3",
   "metadata": {},
   "outputs": [
    {
     "data": {
      "text/plain": [
       "True"
      ]
     },
     "execution_count": 5,
     "metadata": {},
     "output_type": "execute_result"
    }
   ],
   "source": [
    "p1.is_empty()"
   ]
  },
  {
   "cell_type": "code",
   "execution_count": 6,
   "id": "b238685c",
   "metadata": {},
   "outputs": [
    {
     "data": {
      "text/plain": [
       "0"
      ]
     },
     "execution_count": 6,
     "metadata": {},
     "output_type": "execute_result"
    }
   ],
   "source": [
    "p1.size()"
   ]
  },
  {
   "cell_type": "code",
   "execution_count": null,
   "id": "9f68a2c2",
   "metadata": {},
   "outputs": [],
   "source": []
  }
 ],
 "metadata": {
  "kernelspec": {
   "display_name": "Python 3 (ipykernel)",
   "language": "python",
   "name": "python3"
  },
  "language_info": {
   "codemirror_mode": {
    "name": "ipython",
    "version": 3
   },
   "file_extension": ".py",
   "mimetype": "text/x-python",
   "name": "python",
   "nbconvert_exporter": "python",
   "pygments_lexer": "ipython3",
   "version": "3.9.12"
  }
 },
 "nbformat": 4,
 "nbformat_minor": 5
}

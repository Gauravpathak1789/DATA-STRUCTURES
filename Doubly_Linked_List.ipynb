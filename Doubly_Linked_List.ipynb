{
 "cells": [
  {
   "cell_type": "code",
   "execution_count": 11,
   "id": "7eeea9fd",
   "metadata": {},
   "outputs": [],
   "source": [
    "class Node:\n",
    "    \n",
    "    def __init__(self,prev=None,item=None,next=None):\n",
    "        self.prev=prev\n",
    "        self.item=item\n",
    "        self.next=next\n",
    "        \n",
    "class DLL:\n",
    "    \n",
    "    def __init__(self,head=None):\n",
    "        self.head=head\n",
    "        \n",
    "    def is_empty(self):\n",
    "        return self.head==None\n",
    "    \n",
    "    def insert_at_start(self,data):\n",
    "        if not self.is_empty():\n",
    "            new_node=Node(None,data,self.head)\n",
    "            self.head.prev=new_node\n",
    "            self.head=new_node\n",
    "        else:\n",
    "            self.head=Node(None,data,None)\n",
    "            \n",
    "        \n",
    "    def insert_at_last(self,data):\n",
    "        if not self.is_empty():\n",
    "            temp=self.head\n",
    "            while temp.next is not None:\n",
    "                temp=temp.next\n",
    "            new_node=Node(temp,data,None)\n",
    "            temp.next=new_node\n",
    "        else:\n",
    "            self.head=Node(None,data,None)\n",
    "            \n",
    "    def search(self,data):\n",
    "        if not self.is_empty():\n",
    "            temp=self.head\n",
    "            while temp is not None:\n",
    "                if temp.item==data:\n",
    "                    return temp\n",
    "                temp=temp.next\n",
    "                \n",
    "        else:\n",
    "            return \"not mathced\"\n",
    "    \n",
    "    def insert_after(self,data,N):\n",
    "        if not self.is_empty():\n",
    "            new_node=Node(N,data,N.next)\n",
    "            N.next.prev=new_node\n",
    "            N.next=new_node\n",
    "        else:\n",
    "            pass\n",
    "    \n",
    "    def print_all(self):\n",
    "        if not self.is_empty():\n",
    "            temp=self.head\n",
    "            while temp is not None:\n",
    "                print(temp.item,end=\" \")\n",
    "                temp=temp.next\n",
    "                \n",
    "        else:\n",
    "            pass\n",
    "\n",
    "    def delete_first(self):\n",
    "        if not self.is_empty():\n",
    "            self.head.next.prev=None\n",
    "            self.head=self.head.next\n",
    "        else:\n",
    "            pass\n",
    "        \n",
    "    def delete_last(self):\n",
    "        if not self.is_empty():\n",
    "            if self.head.next==None:\n",
    "                self.head=None\n",
    "            else:\n",
    "                temp=self.head\n",
    "                while temp.next.next is not None:\n",
    "                    temp=temp.next\n",
    "                temp.next=None\n",
    "        else:\n",
    "            pass\n",
    "    \n",
    "    def delete_item(self,data):\n",
    "        if not self.is_empty():\n",
    "            if self.head.item==data:\n",
    "                self.head=None\n",
    "            else:\n",
    "                temp=self.head\n",
    "                while temp.next is not None:\n",
    "                    if temp.item==data:\n",
    "                        temp.prev.next=temp.next\n",
    "                        temp.next.prev=temp.prev\n",
    "                    temp=temp.next\n",
    "        else:\n",
    "            pass\n",
    "    \n",
    "    \n",
    "                    \n",
    "            \n",
    "        \n",
    "            \n",
    "            "
   ]
  },
  {
   "cell_type": "code",
   "execution_count": 12,
   "id": "f1215fff",
   "metadata": {},
   "outputs": [],
   "source": [
    "d1=DLL()"
   ]
  },
  {
   "cell_type": "code",
   "execution_count": 13,
   "id": "d3be29f5",
   "metadata": {},
   "outputs": [
    {
     "data": {
      "text/plain": [
       "True"
      ]
     },
     "execution_count": 13,
     "metadata": {},
     "output_type": "execute_result"
    }
   ],
   "source": [
    "d1.is_empty()"
   ]
  },
  {
   "cell_type": "code",
   "execution_count": 14,
   "id": "946c3d02",
   "metadata": {},
   "outputs": [],
   "source": [
    "d1.insert_at_start(50)\n",
    "d1.insert_at_start(40)\n",
    "d1.insert_at_start(30)\n",
    "d1.insert_at_start(20)\n",
    "d1.insert_at_start(10)"
   ]
  },
  {
   "cell_type": "code",
   "execution_count": 15,
   "id": "404b732c",
   "metadata": {},
   "outputs": [
    {
     "name": "stdout",
     "output_type": "stream",
     "text": [
      "10 20 30 40 50 "
     ]
    }
   ],
   "source": [
    "d1.print_all()"
   ]
  },
  {
   "cell_type": "code",
   "execution_count": 16,
   "id": "2fde7dff",
   "metadata": {},
   "outputs": [],
   "source": [
    "d1.insert_at_last(60)"
   ]
  },
  {
   "cell_type": "code",
   "execution_count": 23,
   "id": "12a0e565",
   "metadata": {},
   "outputs": [
    {
     "name": "stdout",
     "output_type": "stream",
     "text": [
      "10 20 30 40 50 60 60 "
     ]
    }
   ],
   "source": [
    "d1.print_all()"
   ]
  },
  {
   "cell_type": "code",
   "execution_count": 18,
   "id": "2db84268",
   "metadata": {},
   "outputs": [],
   "source": [
    "d1.insert_at_last(60)\n",
    "d1.insert_at_last(60)\n",
    "d1.insert_at_last(60)"
   ]
  },
  {
   "cell_type": "code",
   "execution_count": 22,
   "id": "ba425bd3",
   "metadata": {},
   "outputs": [],
   "source": [
    "d1.delete_last()\n"
   ]
  },
  {
   "cell_type": "code",
   "execution_count": 24,
   "id": "21bb50ad",
   "metadata": {},
   "outputs": [],
   "source": [
    "d1.delete_first()"
   ]
  },
  {
   "cell_type": "code",
   "execution_count": 26,
   "id": "2e81ef07",
   "metadata": {},
   "outputs": [],
   "source": [
    "d1.delete_item(50)"
   ]
  },
  {
   "cell_type": "code",
   "execution_count": 30,
   "id": "9ca45e71",
   "metadata": {},
   "outputs": [
    {
     "name": "stdout",
     "output_type": "stream",
     "text": [
      "20 30 40 60 60 "
     ]
    }
   ],
   "source": [
    "d1.print_all()"
   ]
  },
  {
   "cell_type": "code",
   "execution_count": 28,
   "id": "0cf469ed",
   "metadata": {},
   "outputs": [
    {
     "data": {
      "text/plain": [
       "False"
      ]
     },
     "execution_count": 28,
     "metadata": {},
     "output_type": "execute_result"
    }
   ],
   "source": [
    "d1.is_empty()"
   ]
  },
  {
   "cell_type": "code",
   "execution_count": 29,
   "id": "00d28483",
   "metadata": {},
   "outputs": [
    {
     "data": {
      "text/plain": [
       "<__main__.Node at 0x19730eaf8e0>"
      ]
     },
     "execution_count": 29,
     "metadata": {},
     "output_type": "execute_result"
    }
   ],
   "source": [
    "d1.search(30)"
   ]
  },
  {
   "cell_type": "code",
   "execution_count": null,
   "id": "3a608e44",
   "metadata": {},
   "outputs": [],
   "source": []
  }
 ],
 "metadata": {
  "kernelspec": {
   "display_name": "Python 3 (ipykernel)",
   "language": "python",
   "name": "python3"
  },
  "language_info": {
   "codemirror_mode": {
    "name": "ipython",
    "version": 3
   },
   "file_extension": ".py",
   "mimetype": "text/x-python",
   "name": "python",
   "nbconvert_exporter": "python",
   "pygments_lexer": "ipython3",
   "version": "3.9.12"
  }
 },
 "nbformat": 4,
 "nbformat_minor": 5
}

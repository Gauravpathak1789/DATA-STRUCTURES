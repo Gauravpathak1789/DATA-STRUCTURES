{
 "cells": [
  {
   "cell_type": "code",
   "execution_count": 12,
   "id": "ed483d82",
   "metadata": {},
   "outputs": [],
   "source": [
    "class Graph:\n",
    "    \n",
    "    def __init__(self,vno):\n",
    "        self.vertex_count=vno\n",
    "        self.adj_list={v:[] for v in range(vno)}\n",
    "\n",
    "    def add_edge(self,u,v,weight=1):\n",
    "        if 0<=u<self.vertex_count and 0<=v<self.vertex_count:\n",
    "            self.adj_list[u].append((v,weight))\n",
    "            self.adj_list[v].append((u,weight))\n",
    "        else:\n",
    "            print(\"invalid vertex\")\n",
    "    \n",
    "    def remove_edge(self,u,v):\n",
    "        if 0<=u<self.vertex_count and 0<=v<self.vertex_count:\n",
    "            self.adj_list[u]=[(vertex,weight) for vertex,weight in self.adj_list[u] if vertex!=v]\n",
    "            self.adj_list[v]=[(vertex,weight) for vertex,weight in self.adj_list[v] if vertex!=u]\n",
    "        else:\n",
    "            print(\"invalid vertex\")\n",
    "    \n",
    "    def has_edge(self,u,v):\n",
    "        if 0<=u<self.vertex_count and 0<=v<self.vertex_count:\n",
    "            return any(vertex==v for vertex,x in self.adj_list[u])\n",
    "        else:\n",
    "            print(\"invalid vertex\")\n",
    "    \n",
    "    def print_adj_list(self):\n",
    "        for vertex,n in self.adj_list.items():\n",
    "            print(\"V\",vertex,\":\",n)\n",
    "        "
   ]
  },
  {
   "cell_type": "code",
   "execution_count": 26,
   "id": "39322a79",
   "metadata": {},
   "outputs": [],
   "source": [
    "g=Graph(5)"
   ]
  },
  {
   "cell_type": "code",
   "execution_count": 27,
   "id": "2816fdf6",
   "metadata": {},
   "outputs": [],
   "source": [
    "g.add_edge(0,1)\n",
    "g.add_edge(1,2)\n",
    "g.add_edge(1,3)\n",
    "g.add_edge(2,4)\n",
    "g.add_edge(3,4)"
   ]
  },
  {
   "cell_type": "code",
   "execution_count": 28,
   "id": "7f6f8695",
   "metadata": {},
   "outputs": [
    {
     "name": "stdout",
     "output_type": "stream",
     "text": [
      "V 0 : [(1, 1)]\n",
      "V 1 : [(0, 1), (2, 1), (3, 1)]\n",
      "V 2 : [(1, 1), (4, 1)]\n",
      "V 3 : [(1, 1), (4, 1)]\n",
      "V 4 : [(2, 1), (3, 1)]\n"
     ]
    }
   ],
   "source": [
    "g.print_adj_list()"
   ]
  },
  {
   "cell_type": "code",
   "execution_count": null,
   "id": "b8e3824e",
   "metadata": {},
   "outputs": [],
   "source": []
  }
 ],
 "metadata": {
  "kernelspec": {
   "display_name": "Python 3 (ipykernel)",
   "language": "python",
   "name": "python3"
  },
  "language_info": {
   "codemirror_mode": {
    "name": "ipython",
    "version": 3
   },
   "file_extension": ".py",
   "mimetype": "text/x-python",
   "name": "python",
   "nbconvert_exporter": "python",
   "pygments_lexer": "ipython3",
   "version": "3.9.12"
  }
 },
 "nbformat": 4,
 "nbformat_minor": 5
}

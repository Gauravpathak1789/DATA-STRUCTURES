{
 "cells": [
  {
   "cell_type": "code",
   "execution_count": 10,
   "id": "43a9ed01",
   "metadata": {},
   "outputs": [],
   "source": [
    "class Graph:\n",
    "    \n",
    "    def __init__(self,vno):\n",
    "        self.vertex_count=vno\n",
    "        self.adj_matrix=[[0]*vno for e in range(vno)]\n",
    "        \n",
    "    def add_edge(self,u,v,weight=1):\n",
    "        if 0<=u<self.vertex_count and 0<=v<self.vertex_count:\n",
    "            self.adj_matrix[u][v]=weight\n",
    "            self.adj_matrix[v][u]=weight\n",
    "        else:\n",
    "            print(\"invalid vertex\")\n",
    "    \n",
    "    def remove_edge(self,u,v):\n",
    "        if 0<=u<self.vertex_count and 0<=v<self.vertex_count:\n",
    "            self.adj_matrix[u][v]=0\n",
    "            self.adj_matrix[v][u]=0\n",
    "        else:\n",
    "            print(\"invalid vertex\")\n",
    "    \n",
    "    def has_edge(self,u,v):\n",
    "        if 0<=u<self.vertex_count and 0<=v<self.vertex_count:\n",
    "            return self.adj_matrix[u][v]!=0\n",
    "        else:\n",
    "            print(\"invalid vertex\")\n",
    "    \n",
    "    def print_adj_matrix(self):\n",
    "        for rowlist  in self.adj_matrix:\n",
    "            print(\" \".join(map(str,rowlist)))\n",
    "            \n",
    "        "
   ]
  },
  {
   "cell_type": "code",
   "execution_count": 11,
   "id": "e5c0b63f",
   "metadata": {},
   "outputs": [],
   "source": [
    "g=Graph(5)"
   ]
  },
  {
   "cell_type": "code",
   "execution_count": 12,
   "id": "5f5e0b6a",
   "metadata": {},
   "outputs": [],
   "source": [
    "g.add_edge(0,1)\n",
    "g.add_edge(1,2)\n",
    "g.add_edge(1,3)\n",
    "g.add_edge(2,3)\n",
    "g.add_edge(3,4)"
   ]
  },
  {
   "cell_type": "code",
   "execution_count": 13,
   "id": "8eaf6a6b",
   "metadata": {},
   "outputs": [
    {
     "name": "stdout",
     "output_type": "stream",
     "text": [
      "0 1 0 0 0\n",
      "1 0 1 1 0\n",
      "0 1 0 1 0\n",
      "0 1 1 0 1\n",
      "0 0 0 1 0\n"
     ]
    }
   ],
   "source": [
    "g.print_adj_matrix()"
   ]
  },
  {
   "cell_type": "code",
   "execution_count": 15,
   "id": "80c4894c",
   "metadata": {},
   "outputs": [
    {
     "data": {
      "text/plain": [
       "False"
      ]
     },
     "execution_count": 15,
     "metadata": {},
     "output_type": "execute_result"
    }
   ],
   "source": [
    "g.has_edge(0,0)"
   ]
  },
  {
   "cell_type": "code",
   "execution_count": 16,
   "id": "0b986118",
   "metadata": {},
   "outputs": [
    {
     "data": {
      "text/plain": [
       "True"
      ]
     },
     "execution_count": 16,
     "metadata": {},
     "output_type": "execute_result"
    }
   ],
   "source": [
    "g.has_edge(0,1)"
   ]
  },
  {
   "cell_type": "code",
   "execution_count": 17,
   "id": "1527811d",
   "metadata": {},
   "outputs": [],
   "source": [
    "g.remove_edge(0,1)"
   ]
  },
  {
   "cell_type": "code",
   "execution_count": 18,
   "id": "f61650b2",
   "metadata": {},
   "outputs": [
    {
     "data": {
      "text/plain": [
       "False"
      ]
     },
     "execution_count": 18,
     "metadata": {},
     "output_type": "execute_result"
    }
   ],
   "source": [
    "g.has_edge(0,1)"
   ]
  },
  {
   "cell_type": "code",
   "execution_count": null,
   "id": "f5da1263",
   "metadata": {},
   "outputs": [],
   "source": []
  }
 ],
 "metadata": {
  "kernelspec": {
   "display_name": "Python 3 (ipykernel)",
   "language": "python",
   "name": "python3"
  },
  "language_info": {
   "codemirror_mode": {
    "name": "ipython",
    "version": 3
   },
   "file_extension": ".py",
   "mimetype": "text/x-python",
   "name": "python",
   "nbconvert_exporter": "python",
   "pygments_lexer": "ipython3",
   "version": "3.9.12"
  }
 },
 "nbformat": 4,
 "nbformat_minor": 5
}

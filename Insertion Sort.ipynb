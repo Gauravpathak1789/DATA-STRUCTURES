{
 "cells": [
  {
   "cell_type": "code",
   "execution_count": 7,
   "id": "111783cc",
   "metadata": {},
   "outputs": [],
   "source": [
    "def Insertion_sort(array):\n",
    "    n=len(array)\n",
    "    for j in range(1,n):\n",
    "        key=array[j]\n",
    "        i=j-1\n",
    "        while(i>-1 and array[i]>key):\n",
    "            array[i+1]=array[i]\n",
    "            i=i-1\n",
    "            \n",
    "        array[i+1]=key\n",
    "    return array\n",
    "        "
   ]
  },
  {
   "cell_type": "code",
   "execution_count": 8,
   "id": "2919f0df",
   "metadata": {},
   "outputs": [
    {
     "data": {
      "text/plain": [
       "[10, 20, 30, 40, 50, 60]"
      ]
     },
     "execution_count": 8,
     "metadata": {},
     "output_type": "execute_result"
    }
   ],
   "source": [
    "Insertion_sort([40,30,10,60,20,50])"
   ]
  },
  {
   "cell_type": "code",
   "execution_count": null,
   "id": "e2f6332a",
   "metadata": {},
   "outputs": [],
   "source": []
  }
 ],
 "metadata": {
  "kernelspec": {
   "display_name": "Python 3 (ipykernel)",
   "language": "python",
   "name": "python3"
  },
  "language_info": {
   "codemirror_mode": {
    "name": "ipython",
    "version": 3
   },
   "file_extension": ".py",
   "mimetype": "text/x-python",
   "name": "python",
   "nbconvert_exporter": "python",
   "pygments_lexer": "ipython3",
   "version": "3.9.12"
  }
 },
 "nbformat": 4,
 "nbformat_minor": 5
}

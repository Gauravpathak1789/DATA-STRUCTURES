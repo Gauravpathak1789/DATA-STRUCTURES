{
 "cells": [
  {
   "cell_type": "code",
   "execution_count": 4,
   "id": "cd3df781",
   "metadata": {},
   "outputs": [],
   "source": [
    "class Circular_queue:\n",
    "    \n",
    "    def __init__(self,arr_size):\n",
    "        self.arr_size=arr_size\n",
    "        self.arr=[None]*self.arr_size\n",
    "        self.front=-1\n",
    "        self.rear=-1\n",
    "    \n",
    "    def is_empty(self):\n",
    "        return self.front==-1\n",
    "    \n",
    "    def Enqueue(self,data):\n",
    "        if ((self.rear+1)%(self.arr_size))==self.front:\n",
    "            raise IndexError(\"Queue is full\")\n",
    "        elif self.front==-1:\n",
    "            self.front=0\n",
    "            self.rear=0\n",
    "            self.arr[self.rear]=data\n",
    "            \n",
    "        else:\n",
    "            self.rear=((self.rear+1)%(self.arr_size))\n",
    "            self.arr[self.rear]=data\n",
    "    \n",
    "    def Dequeue(self):\n",
    "        if not self.is_empty():\n",
    "            temp=self.arr[self.front]\n",
    "            if self.rear==self.front:\n",
    "                self.rear=-1\n",
    "                self.front=-1\n",
    "                return temp\n",
    "            else:\n",
    "                self.front=((self.front+1)%(self.arr_size))\n",
    "                return temp\n",
    "        else:\n",
    "            raise IndexError(\"Queue is empty\")\n",
    "            \n",
    "    def is_full(self):\n",
    "        return ((self.rear+1)%self.arr_size)==self.front\n",
    "    \n",
    "    def display(self):\n",
    "        if self.front==-1:\n",
    "            print(\"queue is empty\")\n",
    "        elif self.front<=self.rear:\n",
    "            for i in range(self.front,self.rear+1):\n",
    "                print(self.arr[i],end=\" \")\n",
    "        else:\n",
    "            for i in range(self.front,self.arr_size):\n",
    "                print(self.arr[i],end=\" \")\n",
    "            for i in range(0,self.rear+1):\n",
    "                print(self.arr[i],end=\" \")\n",
    "            \n",
    "            "
   ]
  },
  {
   "cell_type": "code",
   "execution_count": 5,
   "id": "1e3c5a5d",
   "metadata": {},
   "outputs": [],
   "source": [
    "cq1=Circular_queue(5)"
   ]
  },
  {
   "cell_type": "code",
   "execution_count": 6,
   "id": "ed1ac07a",
   "metadata": {},
   "outputs": [],
   "source": [
    "cq1.Enqueue(1)\n",
    "cq1.Enqueue(2)\n",
    "cq1.Enqueue(3)\n",
    "cq1.Enqueue(4)\n",
    "cq1.Enqueue(5)"
   ]
  },
  {
   "cell_type": "code",
   "execution_count": 7,
   "id": "590c6cd5",
   "metadata": {},
   "outputs": [
    {
     "name": "stdout",
     "output_type": "stream",
     "text": [
      "1 2 3 4 5 "
     ]
    }
   ],
   "source": [
    "cq1.display()"
   ]
  },
  {
   "cell_type": "code",
   "execution_count": 8,
   "id": "e348b1bd",
   "metadata": {},
   "outputs": [
    {
     "data": {
      "text/plain": [
       "1"
      ]
     },
     "execution_count": 8,
     "metadata": {},
     "output_type": "execute_result"
    }
   ],
   "source": [
    "cq1.Dequeue()"
   ]
  },
  {
   "cell_type": "code",
   "execution_count": 9,
   "id": "6b068d6e",
   "metadata": {},
   "outputs": [
    {
     "name": "stdout",
     "output_type": "stream",
     "text": [
      "2 3 4 5 "
     ]
    }
   ],
   "source": [
    "cq1.display()"
   ]
  },
  {
   "cell_type": "code",
   "execution_count": 10,
   "id": "648c03ef",
   "metadata": {},
   "outputs": [
    {
     "data": {
      "text/plain": [
       "False"
      ]
     },
     "execution_count": 10,
     "metadata": {},
     "output_type": "execute_result"
    }
   ],
   "source": [
    "cq1.is_full()"
   ]
  },
  {
   "cell_type": "code",
   "execution_count": 11,
   "id": "e8be4510",
   "metadata": {},
   "outputs": [],
   "source": [
    "cq1.Enqueue(7)"
   ]
  },
  {
   "cell_type": "code",
   "execution_count": 12,
   "id": "eb57ea24",
   "metadata": {},
   "outputs": [
    {
     "name": "stdout",
     "output_type": "stream",
     "text": [
      "2 3 4 5 7 "
     ]
    }
   ],
   "source": [
    "cq1.display()"
   ]
  },
  {
   "cell_type": "code",
   "execution_count": null,
   "id": "e9543e71",
   "metadata": {},
   "outputs": [],
   "source": []
  }
 ],
 "metadata": {
  "kernelspec": {
   "display_name": "Python 3 (ipykernel)",
   "language": "python",
   "name": "python3"
  },
  "language_info": {
   "codemirror_mode": {
    "name": "ipython",
    "version": 3
   },
   "file_extension": ".py",
   "mimetype": "text/x-python",
   "name": "python",
   "nbconvert_exporter": "python",
   "pygments_lexer": "ipython3",
   "version": "3.9.12"
  }
 },
 "nbformat": 4,
 "nbformat_minor": 5
}
